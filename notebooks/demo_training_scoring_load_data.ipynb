{
 "cells": [
  {
   "cell_type": "markdown",
   "id": "5729cca3-231f-44b2-a44b-69c23a841081",
   "metadata": {
    "tags": []
   },
   "source": [
    "# Demo of Snowpark end-to-end Machine Learning\n",
    "\n",
    "\n",
    "The dataset is from https://archive-beta.ics.uci.edu/dataset/222/bank+marketing\n",
    "\n",
    "\n",
    "**Run 00_Load_demo_data.ipynb to upload the Parquet files used for this Notebook**"
   ]
  },
  {
   "cell_type": "code",
   "execution_count": 36,
   "id": "66c0319e-3237-437a-a19b-83c3e5411a6f",
   "metadata": {
    "tags": []
   },
   "outputs": [
    {
     "data": {
      "text/html": [
       "<style>pre { white-space: pre !important; }</style>"
      ],
      "text/plain": [
       "<IPython.core.display.HTML object>"
      ]
     },
     "metadata": {},
     "output_type": "display_data"
    },
    {
     "name": "stdout",
     "output_type": "stream",
     "text": [
      "Using Snowpark: 1.2.0\n"
     ]
    }
   ],
   "source": [
    "# Imports \n",
    "import snowflake.snowpark as S\n",
    "from snowflake.snowpark import Session\n",
    "from snowflake.snowpark import functions as F\n",
    "from snowflake.snowpark import types as T\n",
    "from snowflake.snowpark import Window\n",
    "\n",
    "import joblib\n",
    "import cachetools\n",
    "import io\n",
    "import os\n",
    "\n",
    "import json\n",
    "\n",
    "# Make sure we do not get line breaks when doing show on wide dataframes\n",
    "from IPython.core.display import HTML\n",
    "display(HTML(\"<style>pre { white-space: pre !important; }</style>\"))\n",
    "\n",
    "from sklearn.ensemble import RandomForestClassifier\n",
    "from sklearn.preprocessing import OneHotEncoder, LabelEncoder, StandardScaler\n",
    "from sklearn.compose import ColumnTransformer\n",
    "from sklearn.pipeline import Pipeline\n",
    "from sklearn.metrics import f1_score, accuracy_score, precision_score, recall_score\n",
    "\n",
    "import sqlparse\n",
    "\n",
    "# Print the version of Snowpark we are using\n",
    "print(f\"Using Snowpark: {S.__version__}\")"
   ]
  },
  {
   "cell_type": "markdown",
   "id": "93861747-9998-42e9-81d8-8eea613c950a",
   "metadata": {},
   "source": [
    "Helper functions for nicer printing of Snowparkd dataframe schema, SQL and to generate a correlation matrix."
   ]
  },
  {
   "cell_type": "code",
   "execution_count": 37,
   "id": "96a619ad-deb3-4494-b81b-9421da9c5f14",
   "metadata": {
    "tags": []
   },
   "outputs": [],
   "source": [
    "# Helper functions for nicer printing\n",
    "def print_sql(df):\n",
    "    for query in df.queries['queries']:\n",
    "        print(sqlparse.format(query, reindent=True))\n",
    "\n",
    "def print_schema(df):\n",
    "    print(\"schema:\")\n",
    "    for col in df.schema.fields:\n",
    "        print(f\" |-- {col.name}: {col.datatype} (Nullable: {col.nullable})\")\n",
    "\n",
    "def shape(df):\n",
    "    return (df.count(), len(df.columns))"
   ]
  },
  {
   "cell_type": "markdown",
   "id": "cd8f41d1-4a3d-43b1-9814-b2057e0896e8",
   "metadata": {},
   "source": [
    "Connect to Snowflake\n",
    "\n",
    "This example is using a JSON file with the following structure\n",
    "```\n",
    "{\n",
    "    \"account\":\"MY SNOWFLAKE ACCOUNT\",\n",
    "    \"user\": \"MY USER\",\n",
    "    \"password\":\"MY PASSWORD\",\n",
    "    \"role\":\"MY ROLE\",\n",
    "    \"warehouse\":\"MY WH\",\n",
    "    \"database\":\"MY DB\",\n",
    "    \"schema\":\"MY SCHEMA\"\n",
    "}\n",
    "\n",
    "```"
   ]
  },
  {
   "cell_type": "code",
   "execution_count": 38,
   "id": "b68234ce-6537-4f9e-93cd-66f29e41fc1a",
   "metadata": {
    "tags": []
   },
   "outputs": [
    {
     "name": "stdout",
     "output_type": "stream",
     "text": [
      "Current role: \"SYSADMIN\", Current schema: \"DEMO_DB\".\"PUBLIC\", Current WH: \"COMPUTE_WH\"\n"
     ]
    }
   ],
   "source": [
    "with open('../creds.json') as f:\n",
    "    connection_parameters = json.load(f)\n",
    "\n",
    "session = Session.builder.configs(connection_parameters).create()\n",
    "print(\"Current role: \" + session.get_current_role() + \", Current schema: \" + session.get_fully_qualified_current_schema() + \", Current WH: \" + session.get_current_warehouse())"
   ]
  },
  {
   "cell_type": "code",
   "execution_count": 39,
   "id": "41aee10a-c883-4bce-8a9d-cefc0d3b991a",
   "metadata": {
    "tags": []
   },
   "outputs": [],
   "source": [
    "# Parameters\n",
    "source_path = \"@SOURCE_FILES/BANK_MARKETING\" # Where the source parquet files are stored\n",
    "sp_udf_stage = \"BANK_STAGE\" # Name of the stage to used for storing the code for the SP and UDF , as well the trained model files"
   ]
  },
  {
   "cell_type": "markdown",
   "id": "9a0bbd48-5d09-47f0-850e-af485990405a",
   "metadata": {},
   "source": [
    "## Loading of source data\n",
    "### Loading Parquet files with inferring the schema.\n",
    "\n",
    "Start to check that the source files is on the stage"
   ]
  },
  {
   "cell_type": "code",
   "execution_count": 41,
   "id": "048afc37",
   "metadata": {
    "collapsed": false,
    "jupyter": {
     "outputs_hidden": false
    },
    "tags": []
   },
   "outputs": [
    {
     "name": "stdout",
     "output_type": "stream",
     "text": [
      "-------------------------------------------------------\n",
      "|\"name\"                                               |\n",
      "-------------------------------------------------------\n",
      "|source_files/BANK_MARKETING/data_apr.snappy.parquet  |\n",
      "|source_files/BANK_MARKETING/data_aug.snappy.parquet  |\n",
      "|source_files/BANK_MARKETING/data_dec.snappy.parquet  |\n",
      "|source_files/BANK_MARKETING/data_feb.snappy.parquet  |\n",
      "|source_files/BANK_MARKETING/data_jan.snappy.parquet  |\n",
      "|source_files/BANK_MARKETING/data_jul.snappy.parquet  |\n",
      "|source_files/BANK_MARKETING/data_jun.snappy.parquet  |\n",
      "|source_files/BANK_MARKETING/data_mar.snappy.parquet  |\n",
      "|source_files/BANK_MARKETING/data_may.snappy.parquet  |\n",
      "|source_files/BANK_MARKETING/data_nov.snappy.parquet  |\n",
      "|source_files/BANK_MARKETING/data_oct.snappy.parquet  |\n",
      "|source_files/BANK_MARKETING/data_sep.snappy.parquet  |\n",
      "-------------------------------------------------------\n",
      "\n"
     ]
    }
   ],
   "source": [
    "session.sql(f\"ls {source_path}\").select('\"name\"').show(30, max_width=150)"
   ]
  },
  {
   "cell_type": "markdown",
   "id": "4e4f167e-66c5-4df1-8b70-ab5acd4055da",
   "metadata": {},
   "source": [
    "Take a peak in the files"
   ]
  },
  {
   "cell_type": "code",
   "execution_count": 42,
   "id": "562355d5-fba0-403f-98af-c2ca90eb9e78",
   "metadata": {
    "tags": []
   },
   "outputs": [
    {
     "name": "stdout",
     "output_type": "stream",
     "text": [
      "-------------------------------\n",
      "|\"$1\"                         |\n",
      "-------------------------------\n",
      "|{                            |\n",
      "|  \"AGE\": 46,                 |\n",
      "|  \"BALANCE\": -90,            |\n",
      "|  \"CAMPAIGN\": 1,             |\n",
      "|  \"CONTACT\": \"telephone\",    |\n",
      "|  \"DAY\": 17,                 |\n",
      "|  \"DEFAULT\": \"no\",           |\n",
      "|  \"DURATION\": 270,           |\n",
      "|  \"EDUCATION\": \"secondary\",  |\n",
      "|  \"HOUSING\": \"no\",           |\n",
      "|  \"JOB\": \"technician\",       |\n",
      "|  \"LOAN\": \"yes\",             |\n",
      "|  \"MARITAL\": \"divorced\",     |\n",
      "|  \"MONTH\": \"oct\",            |\n",
      "|  \"OUTCOME\": \"unknown\",      |\n",
      "|  \"PDAYS\": -1,               |\n",
      "|  \"PREVIOUS\": 0,             |\n",
      "|  \"Y\": \"yes\"                 |\n",
      "|}                            |\n",
      "|{                            |\n",
      "|  \"AGE\": 30,                 |\n",
      "|  \"BALANCE\": 1785,           |\n",
      "|  \"CAMPAIGN\": 1,             |\n",
      "|  \"CONTACT\": \"unknown\",      |\n",
      "|  \"DAY\": 17,                 |\n",
      "|  \"DEFAULT\": \"no\",           |\n",
      "|  \"DURATION\": 235,           |\n",
      "|  \"EDUCATION\": \"tertiary\",   |\n",
      "|  \"HOUSING\": \"no\",           |\n",
      "|  \"JOB\": \"self-employed\",    |\n",
      "|  \"LOAN\": \"no\",              |\n",
      "|  \"MARITAL\": \"married\",      |\n",
      "|  \"MONTH\": \"oct\",            |\n",
      "|  \"OUTCOME\": \"unknown\",      |\n",
      "|  \"PDAYS\": -1,               |\n",
      "|  \"PREVIOUS\": 0,             |\n",
      "|  \"Y\": \"yes\"                 |\n",
      "|}                            |\n",
      "-------------------------------\n",
      "\n"
     ]
    }
   ],
   "source": [
    "session.sql(\"create or replace temp file format parq1 type='PARQUET'\").collect()\n",
    "session.sql(f\"select $1 from {source_path} (file_format=>parq1 )\").show(2)"
   ]
  },
  {
   "cell_type": "markdown",
   "id": "2a45358f",
   "metadata": {},
   "source": [
    "Loading Parquet files with inferring the schema."
   ]
  },
  {
   "cell_type": "code",
   "execution_count": 43,
   "id": "2492761e-5f90-4e27-93be-a936923d2b2f",
   "metadata": {
    "tags": []
   },
   "outputs": [
    {
     "name": "stdout",
     "output_type": "stream",
     "text": [
      "------------------------------------------------------------------------------------------------------------------------------------------------------------------------------------------------\n",
      "|\"AGE\"  |\"JOB\"         |\"MARITAL\"  |\"EDUCATION\"  |\"DEFAULT\"  |\"BALANCE\"  |\"HOUSING\"  |\"LOAN\"  |\"CONTACT\"  |\"DAY\"  |\"MONTH\"  |\"DURATION\"  |\"CAMPAIGN\"  |\"PDAYS\"  |\"PREVIOUS\"  |\"OUTCOME\"  |\"Y\"  |\n",
      "------------------------------------------------------------------------------------------------------------------------------------------------------------------------------------------------\n",
      "|23     |student       |single     |secondary    |no         |922        |no         |no      |cellular   |1      |sep      |81          |5           |99       |3           |other      |no   |\n",
      "|32     |entrepreneur  |single     |tertiary     |no         |59649      |no         |no      |cellular   |1      |sep      |69          |2           |-1       |0           |unknown    |no   |\n",
      "|43     |management    |divorced   |unknown      |no         |7702       |no         |no      |cellular   |1      |sep      |108         |7           |102      |3           |success    |no   |\n",
      "|74     |retired       |married    |primary      |no         |2894       |no         |no      |telephone  |1      |sep      |97          |5           |204      |2           |other      |no   |\n",
      "|39     |management    |married    |tertiary     |no         |119        |yes        |no      |cellular   |1      |sep      |265         |2           |476      |4           |success    |yes  |\n",
      "|35     |management    |married    |tertiary     |no         |4          |no         |no      |cellular   |1      |sep      |157         |2           |-1       |0           |unknown    |no   |\n",
      "|62     |retired       |married    |secondary    |no         |816        |no         |no      |cellular   |1      |sep      |28          |2           |-1       |0           |unknown    |no   |\n",
      "|43     |unemployed    |married    |unknown      |no         |970        |yes        |no      |telephone  |1      |sep      |513         |13          |288      |11          |failure    |no   |\n",
      "|26     |management    |single     |tertiary     |no         |200        |no         |no      |cellular   |1      |sep      |91          |2           |-1       |0           |unknown    |no   |\n",
      "|48     |management    |divorced   |tertiary     |no         |17964      |yes        |no      |cellular   |1      |sep      |120         |1           |98       |5           |success    |yes  |\n",
      "------------------------------------------------------------------------------------------------------------------------------------------------------------------------------------------------\n",
      "\n"
     ]
    }
   ],
   "source": [
    "df_reader = session.read.parquet(source_path)\n",
    "df_reader.show()"
   ]
  },
  {
   "cell_type": "markdown",
   "id": "10c3eb39-1229-48be-bb56-2ad9a157a733",
   "metadata": {},
   "source": [
    "The df_reader datafarme is reading the files from stage when used, we can check this by looking at the SQL it generates"
   ]
  },
  {
   "cell_type": "code",
   "execution_count": 44,
   "id": "40494bbf",
   "metadata": {
    "collapsed": false,
    "jupyter": {
     "outputs_hidden": false
    },
    "tags": []
   },
   "outputs": [
    {
     "name": "stdout",
     "output_type": "stream",
     "text": [
      "CREATE SCOPED\n",
      "TEMPORARY FILE FORMAT If NOT EXISTS \"DEMO_DB\".\"PUBLIC\".SNOWPARK_TEMP_FILE_FORMAT_KZNHO5F7JH TYPE = PARQUET\n",
      "SELECT $1:\"AGE\"::NUMBER(38, 0) AS \"AGE\",\n",
      "          $1:\"JOB\"::TEXT AS \"JOB\",\n",
      "             $1:\"MARITAL\"::TEXT AS \"MARITAL\",\n",
      "                $1:\"EDUCATION\"::TEXT AS \"EDUCATION\",\n",
      "                   $1:\"DEFAULT\"::TEXT AS \"DEFAULT\",\n",
      "                      $1:\"BALANCE\"::NUMBER(38, 0) AS \"BALANCE\",\n",
      "                         $1:\"HOUSING\"::TEXT AS \"HOUSING\",\n",
      "                            $1:\"LOAN\"::TEXT AS \"LOAN\",\n",
      "                               $1:\"CONTACT\"::TEXT AS \"CONTACT\",\n",
      "                                  $1:\"DAY\"::NUMBER(38, 0) AS \"DAY\",\n",
      "                                     $1:\"MONTH\"::TEXT AS \"MONTH\",\n",
      "                                        $1:\"DURATION\"::NUMBER(38, 0) AS \"DURATION\",\n",
      "                                           $1:\"CAMPAIGN\"::NUMBER(38, 0) AS \"CAMPAIGN\",\n",
      "                                              $1:\"PDAYS\"::NUMBER(38, 0) AS \"PDAYS\",\n",
      "                                                 $1:\"PREVIOUS\"::NUMBER(38, 0) AS \"PREVIOUS\",\n",
      "                                                    $1:\"OUTCOME\"::TEXT AS \"OUTCOME\",\n",
      "                                                       $1:\"Y\"::TEXT AS \"Y\"\n",
      "FROM @SOURCE_FILES/BANK_MARKETING(FILE_FORMAT => '\"DEMO_DB\".\"PUBLIC\".SNOWPARK_TEMP_FILE_FORMAT_KZNHO5F7JH')\n"
     ]
    }
   ],
   "source": [
    "print_sql(df_reader)"
   ]
  },
  {
   "cell_type": "markdown",
   "id": "dd7bb8ba-5e2d-4367-8ae5-c4a0d4128291",
   "metadata": {},
   "source": [
    "To load the data into a Snowflake table we can use copy_into_table.\n",
    "\n",
    "It will create the table if it not exists, using the infered schema, and if the table exists it will append the data. However, Snowflake keeps track of what files it has loaded so it does not load the same file twice, by dropping the table we ensure that the files are loaded"
   ]
  },
  {
   "cell_type": "code",
   "execution_count": 45,
   "id": "55ce3aaf-a806-4044-a91b-04646a3c90db",
   "metadata": {
    "tags": []
   },
   "outputs": [
    {
     "data": {
      "text/plain": [
       "[Row(file='source_files/BANK_MARKETING/data_sep.snappy.parquet', status='LOADED', rows_parsed=579, rows_loaded=579, error_limit=1, errors_seen=0, first_error=None, first_error_line=None, first_error_character=None, first_error_column_name=None),\n",
       " Row(file='source_files/BANK_MARKETING/data_dec.snappy.parquet', status='LOADED', rows_parsed=214, rows_loaded=214, error_limit=1, errors_seen=0, first_error=None, first_error_line=None, first_error_character=None, first_error_column_name=None),\n",
       " Row(file='source_files/BANK_MARKETING/data_oct.snappy.parquet', status='LOADED', rows_parsed=738, rows_loaded=738, error_limit=1, errors_seen=0, first_error=None, first_error_line=None, first_error_character=None, first_error_column_name=None),\n",
       " Row(file='source_files/BANK_MARKETING/data_jan.snappy.parquet', status='LOADED', rows_parsed=1403, rows_loaded=1403, error_limit=1, errors_seen=0, first_error=None, first_error_line=None, first_error_character=None, first_error_column_name=None),\n",
       " Row(file='source_files/BANK_MARKETING/data_feb.snappy.parquet', status='LOADED', rows_parsed=2649, rows_loaded=2649, error_limit=1, errors_seen=0, first_error=None, first_error_line=None, first_error_character=None, first_error_column_name=None),\n",
       " Row(file='source_files/BANK_MARKETING/data_mar.snappy.parquet', status='LOADED', rows_parsed=477, rows_loaded=477, error_limit=1, errors_seen=0, first_error=None, first_error_line=None, first_error_character=None, first_error_column_name=None),\n",
       " Row(file='source_files/BANK_MARKETING/data_nov.snappy.parquet', status='LOADED', rows_parsed=3970, rows_loaded=3970, error_limit=1, errors_seen=0, first_error=None, first_error_line=None, first_error_character=None, first_error_column_name=None),\n",
       " Row(file='source_files/BANK_MARKETING/data_apr.snappy.parquet', status='LOADED', rows_parsed=2932, rows_loaded=2932, error_limit=1, errors_seen=0, first_error=None, first_error_line=None, first_error_character=None, first_error_column_name=None),\n",
       " Row(file='source_files/BANK_MARKETING/data_jun.snappy.parquet', status='LOADED', rows_parsed=5341, rows_loaded=5341, error_limit=1, errors_seen=0, first_error=None, first_error_line=None, first_error_character=None, first_error_column_name=None),\n",
       " Row(file='source_files/BANK_MARKETING/data_jul.snappy.parquet', status='LOADED', rows_parsed=6895, rows_loaded=6895, error_limit=1, errors_seen=0, first_error=None, first_error_line=None, first_error_character=None, first_error_column_name=None),\n",
       " Row(file='source_files/BANK_MARKETING/data_aug.snappy.parquet', status='LOADED', rows_parsed=6247, rows_loaded=6247, error_limit=1, errors_seen=0, first_error=None, first_error_line=None, first_error_character=None, first_error_column_name=None),\n",
       " Row(file='source_files/BANK_MARKETING/data_may.snappy.parquet', status='LOADED', rows_parsed=13766, rows_loaded=13766, error_limit=1, errors_seen=0, first_error=None, first_error_line=None, first_error_character=None, first_error_column_name=None)]"
      ]
     },
     "execution_count": 45,
     "metadata": {},
     "output_type": "execute_result"
    }
   ],
   "source": [
    "session.sql(\"DROP TABLE IF EXISTS bank_marketing_v2\").collect()\n",
    "df_reader.copy_into_table(\"bank_marketing_v2\")"
   ]
  },
  {
   "cell_type": "markdown",
   "id": "da084808",
   "metadata": {},
   "source": [
    "Create a Snowpark Dataframe using the new table"
   ]
  },
  {
   "cell_type": "code",
   "execution_count": 46,
   "id": "e0dd2db2-4830-426a-9a8a-0e1d9c224182",
   "metadata": {
    "tags": []
   },
   "outputs": [
    {
     "data": {
      "text/plain": [
       "'Dataframe shape: (45211, 17)'"
      ]
     },
     "metadata": {},
     "output_type": "display_data"
    },
    {
     "name": "stdout",
     "output_type": "stream",
     "text": [
      "------------------------------------------------------------------------------------------------------------------------------------------------------------------------------------------------\n",
      "|\"AGE\"  |\"JOB\"         |\"MARITAL\"  |\"EDUCATION\"  |\"DEFAULT\"  |\"BALANCE\"  |\"HOUSING\"  |\"LOAN\"  |\"CONTACT\"  |\"DAY\"  |\"MONTH\"  |\"DURATION\"  |\"CAMPAIGN\"  |\"PDAYS\"  |\"PREVIOUS\"  |\"OUTCOME\"  |\"Y\"  |\n",
      "------------------------------------------------------------------------------------------------------------------------------------------------------------------------------------------------\n",
      "|34     |technician    |single     |secondary    |no         |1866       |no         |no      |cellular   |4      |nov      |95          |1           |-1       |0           |unknown    |no   |\n",
      "|41     |services      |married    |secondary    |no         |523        |yes        |yes     |telephone  |4      |nov      |5           |1           |-1       |0           |unknown    |no   |\n",
      "|60     |management    |married    |tertiary     |no         |5041       |no         |no      |telephone  |4      |nov      |399         |1           |-1       |0           |unknown    |yes  |\n",
      "|28     |management    |single     |tertiary     |no         |1335       |no         |yes     |unknown    |4      |nov      |15          |1           |-1       |0           |unknown    |no   |\n",
      "|26     |technician    |single     |tertiary     |no         |172        |no         |yes     |telephone  |4      |nov      |21          |1           |140      |4           |other      |no   |\n",
      "|34     |entrepreneur  |married    |tertiary     |no         |0          |yes        |no      |telephone  |4      |nov      |217         |1           |-1       |0           |unknown    |no   |\n",
      "|56     |technician    |married    |secondary    |no         |6619       |yes        |no      |telephone  |4      |nov      |465         |1           |-1       |0           |unknown    |yes  |\n",
      "|34     |management    |married    |tertiary     |no         |8          |yes        |no      |telephone  |5      |nov      |6           |1           |-1       |0           |unknown    |no   |\n",
      "|50     |admin.        |divorced   |secondary    |no         |237        |no         |yes     |telephone  |5      |nov      |169         |1           |-1       |0           |unknown    |yes  |\n",
      "|51     |admin.        |single     |secondary    |no         |3132       |no         |no      |telephone  |5      |nov      |449         |1           |176      |1           |failure    |no   |\n",
      "------------------------------------------------------------------------------------------------------------------------------------------------------------------------------------------------\n",
      "\n"
     ]
    }
   ],
   "source": [
    "df_bank_marketing = session.table(\"bank_marketing_v2\")\n",
    "display(f\"Dataframe shape: {shape(df_bank_marketing)}\")\n",
    "df_bank_marketing.show()"
   ]
  },
  {
   "cell_type": "code",
   "execution_count": 47,
   "id": "cff1a883-c4e9-4fb1-b9dc-bcb991a6b7eb",
   "metadata": {
    "tags": []
   },
   "outputs": [
    {
     "name": "stdout",
     "output_type": "stream",
     "text": [
      "SELECT *\n",
      "FROM (bank_marketing_v2)\n"
     ]
    }
   ],
   "source": [
    "print_sql(df_bank_marketing)"
   ]
  },
  {
   "cell_type": "markdown",
   "id": "0c08dea6-a8ea-4227-a2b2-7250ada628db",
   "metadata": {},
   "source": [
    "### Data understanding\n",
    "\n",
    "Start with verifying datatypes, simple put we will treat charcter columns as categorical"
   ]
  },
  {
   "cell_type": "code",
   "execution_count": 48,
   "id": "a87a9434-7719-47f3-8fa6-d37f170c6633",
   "metadata": {
    "tags": []
   },
   "outputs": [
    {
     "name": "stdout",
     "output_type": "stream",
     "text": [
      "schema:\n",
      " |-- AGE: LongType() (Nullable: True)\n",
      " |-- JOB: StringType() (Nullable: True)\n",
      " |-- MARITAL: StringType() (Nullable: True)\n",
      " |-- EDUCATION: StringType() (Nullable: True)\n",
      " |-- DEFAULT: StringType() (Nullable: True)\n",
      " |-- BALANCE: LongType() (Nullable: True)\n",
      " |-- HOUSING: StringType() (Nullable: True)\n",
      " |-- LOAN: StringType() (Nullable: True)\n",
      " |-- CONTACT: StringType() (Nullable: True)\n",
      " |-- DAY: LongType() (Nullable: True)\n",
      " |-- MONTH: StringType() (Nullable: True)\n",
      " |-- DURATION: LongType() (Nullable: True)\n",
      " |-- CAMPAIGN: LongType() (Nullable: True)\n",
      " |-- PDAYS: LongType() (Nullable: True)\n",
      " |-- PREVIOUS: LongType() (Nullable: True)\n",
      " |-- OUTCOME: StringType() (Nullable: True)\n",
      " |-- Y: StringType() (Nullable: True)\n"
     ]
    }
   ],
   "source": [
    "print_schema(df_bank_marketing)"
   ]
  },
  {
   "cell_type": "markdown",
   "id": "b4cf2667-d23c-46fd-9d83-4771f1786f79",
   "metadata": {},
   "source": [
    "DAY is stored as a number but can be threaded as categorical, fixed number of days in months, and by changing the data type to character we will do that."
   ]
  },
  {
   "cell_type": "code",
   "execution_count": 49,
   "id": "7a3c8b8b-19b3-4087-a3fd-b8281b94c55f",
   "metadata": {
    "tags": []
   },
   "outputs": [
    {
     "name": "stdout",
     "output_type": "stream",
     "text": [
      "schema:\n",
      " |-- AGE: LongType() (Nullable: True)\n",
      " |-- JOB: StringType() (Nullable: True)\n",
      " |-- MARITAL: StringType() (Nullable: True)\n",
      " |-- EDUCATION: StringType() (Nullable: True)\n",
      " |-- DEFAULT: StringType() (Nullable: True)\n",
      " |-- BALANCE: LongType() (Nullable: True)\n",
      " |-- HOUSING: StringType() (Nullable: True)\n",
      " |-- LOAN: StringType() (Nullable: True)\n",
      " |-- CONTACT: StringType() (Nullable: True)\n",
      " |-- MONTH: StringType() (Nullable: True)\n",
      " |-- DURATION: LongType() (Nullable: True)\n",
      " |-- CAMPAIGN: LongType() (Nullable: True)\n",
      " |-- PDAYS: LongType() (Nullable: True)\n",
      " |-- PREVIOUS: LongType() (Nullable: True)\n",
      " |-- OUTCOME: StringType() (Nullable: True)\n",
      " |-- Y: StringType() (Nullable: True)\n",
      " |-- DAY: StringType() (Nullable: True)\n"
     ]
    }
   ],
   "source": [
    "df_bank_marketing_prep = df_bank_marketing.with_column(\"DAY\", F.to_varchar(F.col(\"DAY\")))\n",
    "print_schema(df_bank_marketing_prep)"
   ]
  },
  {
   "cell_type": "markdown",
   "id": "1081a8dd-58bf-41df-b1ea-b59c4780b4e6",
   "metadata": {},
   "source": [
    "Get basic statistics about the categorical and numeric columns"
   ]
  },
  {
   "cell_type": "code",
   "execution_count": 50,
   "id": "c5151d57-da39-4399-8fe0-20293f3d4c75",
   "metadata": {
    "tags": []
   },
   "outputs": [
    {
     "name": "stdout",
     "output_type": "stream",
     "text": [
      "-----------------------------------------------------------------------------------------------------------------------------------------------------------------------------------------------------------------------------------------------------------------\n",
      "|\"SUMMARY\"  |\"AGE\"               |\"JOB\"    |\"MARITAL\"  |\"EDUCATION\"  |\"DEFAULT\"  |\"BALANCE\"           |\"HOUSING\"  |\"LOAN\"  |\"CONTACT\"  |\"MONTH\"  |\"DURATION\"          |\"CAMPAIGN\"          |\"PDAYS\"             |\"PREVIOUS\"         |\"OUTCOME\"  |\"Y\"    |\"DAY\"  |\n",
      "-----------------------------------------------------------------------------------------------------------------------------------------------------------------------------------------------------------------------------------------------------------------\n",
      "|count      |45211.0             |45211    |45211      |45211        |45211      |45211.0             |45211      |45211   |45211      |45211    |45211.0             |45211.0             |45211.0             |45211.0            |45211      |45211  |45211  |\n",
      "|mean       |40.93621            |NULL     |NULL       |NULL         |NULL       |1362.272058         |NULL       |NULL    |NULL       |NULL     |258.16308           |2.763841            |40.197828           |0.580323           |NULL       |NULL   |NULL   |\n",
      "|stddev     |10.618762027656519  |NULL     |NULL       |NULL         |NULL       |3044.7658291684766  |NULL       |NULL    |NULL       |NULL     |257.52781226500565  |3.0980208198138373  |100.12874599234728  |2.303441121452858  |NULL       |NULL   |NULL   |\n",
      "|min        |18.0                |admin.   |divorced   |primary      |no         |-8019.0             |no         |no      |cellular   |apr      |0.0                 |1.0                 |-1.0                |0.0                |failure    |no     |1      |\n",
      "|max        |95.0                |unknown  |single     |unknown      |yes        |102127.0            |yes        |yes     |unknown    |sep      |4918.0              |63.0                |871.0               |275.0              |unknown    |yes    |9      |\n",
      "-----------------------------------------------------------------------------------------------------------------------------------------------------------------------------------------------------------------------------------------------------------------\n",
      "\n"
     ]
    }
   ],
   "source": [
    "df_bank_marketing_prep.describe().show()"
   ]
  },
  {
   "cell_type": "markdown",
   "id": "ea09b2d9-d565-42c7-ab97-594ecc1e85be",
   "metadata": {},
   "source": [
    "Create variables with our categorical, numeric and target columns names so we can use them with encoders and scalers"
   ]
  },
  {
   "cell_type": "code",
   "execution_count": 51,
   "id": "6c3b1e1e-1de7-4b80-9cc3-a10b406d0bfc",
   "metadata": {
    "tags": []
   },
   "outputs": [],
   "source": [
    "cat_cols = [c.name for c in df_bank_marketing_prep.schema.fields if (type(c.datatype) == T.StringType) & (c.name != 'Y')]\n",
    "numeric_types = [T.DecimalType, T.LongType, T.DoubleType, T.FloatType, T.IntegerType]\n",
    "num_cols = [c.name for c in df_bank_marketing_prep.schema.fields if type(c.datatype) in numeric_types]\n",
    "target_col = \"Y\""
   ]
  },
  {
   "cell_type": "markdown",
   "id": "f1cc93ff-948e-47b7-bb5e-a665fcdf0630",
   "metadata": {},
   "source": [
    "Distribution of target values"
   ]
  },
  {
   "cell_type": "code",
   "execution_count": 52,
   "id": "7dc31c3d-f546-41f4-a5e3-3b5f3973f1b8",
   "metadata": {
    "tags": []
   },
   "outputs": [
    {
     "name": "stdout",
     "output_type": "stream",
     "text": [
      "-----------------\n",
      "|\"Y\"  |\"COUNT\"  |\n",
      "-----------------\n",
      "|yes  |5289     |\n",
      "|no   |39922    |\n",
      "-----------------\n",
      "\n"
     ]
    }
   ],
   "source": [
    "df_bank_marketing_prep.group_by(target_col).count().show()"
   ]
  },
  {
   "cell_type": "markdown",
   "id": "d50fc992-84ed-4d2f-8f51-582163d3db3e",
   "metadata": {},
   "source": [
    "Frequency tables for each categorical feature"
   ]
  },
  {
   "cell_type": "code",
   "execution_count": 53,
   "id": "52afbf1e-b58f-4e27-93e2-1479baefec78",
   "metadata": {
    "tags": []
   },
   "outputs": [
    {
     "name": "stdout",
     "output_type": "stream",
     "text": [
      "-------------------------\n",
      "|\"JOB distinct values\"  |\n",
      "-------------------------\n",
      "|12                     |\n",
      "-------------------------\n",
      "\n"
     ]
    },
    {
     "data": {
      "text/plain": [
       "None"
      ]
     },
     "metadata": {},
     "output_type": "display_data"
    },
    {
     "name": "stdout",
     "output_type": "stream",
     "text": [
      "------------------------------------\n",
      "|\"JOB\"          |\"% observations\"  |\n",
      "------------------------------------\n",
      "|blue-collar    |21.525700         |\n",
      "|management     |20.919700         |\n",
      "|technician     |16.803400         |\n",
      "|admin.         |11.437500         |\n",
      "|services       |9.188000          |\n",
      "|retired        |5.007600          |\n",
      "|self-employed  |3.492500          |\n",
      "|entrepreneur   |3.289000          |\n",
      "|unemployed     |2.882000          |\n",
      "|housemaid      |2.742700          |\n",
      "|student        |2.074700          |\n",
      "|unknown        |0.637000          |\n",
      "------------------------------------\n",
      "\n"
     ]
    },
    {
     "data": {
      "text/plain": [
       "None"
      ]
     },
     "metadata": {},
     "output_type": "display_data"
    },
    {
     "name": "stdout",
     "output_type": "stream",
     "text": [
      "-----------------------------\n",
      "|\"MARITAL distinct values\"  |\n",
      "-----------------------------\n",
      "|3                          |\n",
      "-----------------------------\n",
      "\n"
     ]
    },
    {
     "data": {
      "text/plain": [
       "None"
      ]
     },
     "metadata": {},
     "output_type": "display_data"
    },
    {
     "name": "stdout",
     "output_type": "stream",
     "text": [
      "--------------------------------\n",
      "|\"MARITAL\"  |\"% observations\"  |\n",
      "--------------------------------\n",
      "|married    |60.193300         |\n",
      "|single     |28.289600         |\n",
      "|divorced   |11.517100         |\n",
      "--------------------------------\n",
      "\n"
     ]
    },
    {
     "data": {
      "text/plain": [
       "None"
      ]
     },
     "metadata": {},
     "output_type": "display_data"
    },
    {
     "name": "stdout",
     "output_type": "stream",
     "text": [
      "-------------------------------\n",
      "|\"EDUCATION distinct values\"  |\n",
      "-------------------------------\n",
      "|4                            |\n",
      "-------------------------------\n",
      "\n"
     ]
    },
    {
     "data": {
      "text/plain": [
       "None"
      ]
     },
     "metadata": {},
     "output_type": "display_data"
    },
    {
     "name": "stdout",
     "output_type": "stream",
     "text": [
      "----------------------------------\n",
      "|\"EDUCATION\"  |\"% observations\"  |\n",
      "----------------------------------\n",
      "|secondary    |51.319400         |\n",
      "|tertiary     |29.419800         |\n",
      "|primary      |15.153400         |\n",
      "|unknown      |4.107400          |\n",
      "----------------------------------\n",
      "\n"
     ]
    },
    {
     "data": {
      "text/plain": [
       "None"
      ]
     },
     "metadata": {},
     "output_type": "display_data"
    },
    {
     "name": "stdout",
     "output_type": "stream",
     "text": [
      "-----------------------------\n",
      "|\"DEFAULT distinct values\"  |\n",
      "-----------------------------\n",
      "|2                          |\n",
      "-----------------------------\n",
      "\n"
     ]
    },
    {
     "data": {
      "text/plain": [
       "None"
      ]
     },
     "metadata": {},
     "output_type": "display_data"
    },
    {
     "name": "stdout",
     "output_type": "stream",
     "text": [
      "--------------------------------\n",
      "|\"DEFAULT\"  |\"% observations\"  |\n",
      "--------------------------------\n",
      "|no         |98.197300         |\n",
      "|yes        |1.802700          |\n",
      "--------------------------------\n",
      "\n"
     ]
    },
    {
     "data": {
      "text/plain": [
       "None"
      ]
     },
     "metadata": {},
     "output_type": "display_data"
    },
    {
     "name": "stdout",
     "output_type": "stream",
     "text": [
      "-----------------------------\n",
      "|\"HOUSING distinct values\"  |\n",
      "-----------------------------\n",
      "|2                          |\n",
      "-----------------------------\n",
      "\n"
     ]
    },
    {
     "data": {
      "text/plain": [
       "None"
      ]
     },
     "metadata": {},
     "output_type": "display_data"
    },
    {
     "name": "stdout",
     "output_type": "stream",
     "text": [
      "--------------------------------\n",
      "|\"HOUSING\"  |\"% observations\"  |\n",
      "--------------------------------\n",
      "|yes        |55.583800         |\n",
      "|no         |44.416200         |\n",
      "--------------------------------\n",
      "\n"
     ]
    },
    {
     "data": {
      "text/plain": [
       "None"
      ]
     },
     "metadata": {},
     "output_type": "display_data"
    },
    {
     "name": "stdout",
     "output_type": "stream",
     "text": [
      "--------------------------\n",
      "|\"LOAN distinct values\"  |\n",
      "--------------------------\n",
      "|2                       |\n",
      "--------------------------\n",
      "\n"
     ]
    },
    {
     "data": {
      "text/plain": [
       "None"
      ]
     },
     "metadata": {},
     "output_type": "display_data"
    },
    {
     "name": "stdout",
     "output_type": "stream",
     "text": [
      "-----------------------------\n",
      "|\"LOAN\"  |\"% observations\"  |\n",
      "-----------------------------\n",
      "|no      |83.977400         |\n",
      "|yes     |16.022600         |\n",
      "-----------------------------\n",
      "\n"
     ]
    },
    {
     "data": {
      "text/plain": [
       "None"
      ]
     },
     "metadata": {},
     "output_type": "display_data"
    },
    {
     "name": "stdout",
     "output_type": "stream",
     "text": [
      "-----------------------------\n",
      "|\"CONTACT distinct values\"  |\n",
      "-----------------------------\n",
      "|3                          |\n",
      "-----------------------------\n",
      "\n"
     ]
    },
    {
     "data": {
      "text/plain": [
       "None"
      ]
     },
     "metadata": {},
     "output_type": "display_data"
    },
    {
     "name": "stdout",
     "output_type": "stream",
     "text": [
      "--------------------------------\n",
      "|\"CONTACT\"  |\"% observations\"  |\n",
      "--------------------------------\n",
      "|cellular   |64.774100         |\n",
      "|unknown    |28.798300         |\n",
      "|telephone  |6.427600          |\n",
      "--------------------------------\n",
      "\n"
     ]
    },
    {
     "data": {
      "text/plain": [
       "None"
      ]
     },
     "metadata": {},
     "output_type": "display_data"
    },
    {
     "name": "stdout",
     "output_type": "stream",
     "text": [
      "---------------------------\n",
      "|\"MONTH distinct values\"  |\n",
      "---------------------------\n",
      "|12                       |\n",
      "---------------------------\n",
      "\n"
     ]
    },
    {
     "data": {
      "text/plain": [
       "None"
      ]
     },
     "metadata": {},
     "output_type": "display_data"
    },
    {
     "name": "stdout",
     "output_type": "stream",
     "text": [
      "------------------------------\n",
      "|\"MONTH\"  |\"% observations\"  |\n",
      "------------------------------\n",
      "|may      |30.448300         |\n",
      "|jul      |15.250700         |\n",
      "|aug      |13.817400         |\n",
      "|jun      |11.813500         |\n",
      "|nov      |8.781000          |\n",
      "|apr      |6.485100          |\n",
      "|feb      |5.859200          |\n",
      "|jan      |3.103200          |\n",
      "|oct      |1.632300          |\n",
      "|sep      |1.280700          |\n",
      "|mar      |1.055100          |\n",
      "|dec      |0.473300          |\n",
      "------------------------------\n",
      "\n"
     ]
    },
    {
     "data": {
      "text/plain": [
       "None"
      ]
     },
     "metadata": {},
     "output_type": "display_data"
    },
    {
     "name": "stdout",
     "output_type": "stream",
     "text": [
      "-----------------------------\n",
      "|\"OUTCOME distinct values\"  |\n",
      "-----------------------------\n",
      "|4                          |\n",
      "-----------------------------\n",
      "\n"
     ]
    },
    {
     "data": {
      "text/plain": [
       "None"
      ]
     },
     "metadata": {},
     "output_type": "display_data"
    },
    {
     "name": "stdout",
     "output_type": "stream",
     "text": [
      "--------------------------------\n",
      "|\"OUTCOME\"  |\"% observations\"  |\n",
      "--------------------------------\n",
      "|unknown    |81.747800         |\n",
      "|failure    |10.840300         |\n",
      "|other      |4.069800          |\n",
      "|success    |3.342100          |\n",
      "--------------------------------\n",
      "\n"
     ]
    },
    {
     "data": {
      "text/plain": [
       "None"
      ]
     },
     "metadata": {},
     "output_type": "display_data"
    },
    {
     "name": "stdout",
     "output_type": "stream",
     "text": [
      "-------------------------\n",
      "|\"DAY distinct values\"  |\n",
      "-------------------------\n",
      "|31                     |\n",
      "-------------------------\n",
      "\n"
     ]
    },
    {
     "data": {
      "text/plain": [
       "None"
      ]
     },
     "metadata": {},
     "output_type": "display_data"
    },
    {
     "name": "stdout",
     "output_type": "stream",
     "text": [
      "----------------------------\n",
      "|\"DAY\"  |\"% observations\"  |\n",
      "----------------------------\n",
      "|20     |6.087000          |\n",
      "|18     |5.105000          |\n",
      "|21     |4.481200          |\n",
      "|17     |4.288800          |\n",
      "|6      |4.273300          |\n",
      "|5      |4.224600          |\n",
      "|14     |4.087500          |\n",
      "|8      |4.074200          |\n",
      "|28     |4.047700          |\n",
      "|7      |4.018900          |\n",
      "|19     |3.886200          |\n",
      "|29     |3.859700          |\n",
      "|15     |3.766800          |\n",
      "|12     |3.545600          |\n",
      "|13     |3.505800          |\n",
      "|30     |3.463800          |\n",
      "|9      |3.452700          |\n",
      "|11     |3.271300          |\n",
      "|4      |3.196100          |\n",
      "|16     |3.129800          |\n",
      "|2      |2.859900          |\n",
      "|27     |2.479500          |\n",
      "|3      |2.386600          |\n",
      "|26     |2.289300          |\n",
      "|23     |2.076900          |\n",
      "|22     |2.001700          |\n",
      "|25     |1.858000          |\n",
      "|31     |1.422200          |\n",
      "|10     |1.159000          |\n",
      "|24     |0.988700          |\n",
      "|1      |0.712200          |\n",
      "----------------------------\n",
      "\n"
     ]
    },
    {
     "data": {
      "text/plain": [
       "None"
      ]
     },
     "metadata": {},
     "output_type": "display_data"
    }
   ],
   "source": [
    "for col in cat_cols:\n",
    "    display(df_bank_marketing_prep.select(F.count_distinct(col).as_(f\"{col} distinct values\")).show())\n",
    "    display(df_bank_marketing_prep.group_by(col).count()\\\n",
    "                                .select(col, (F.call_function(\"RATIO_TO_REPORT\", F.col(\"COUNT\")).over() * 100).as_(\"% observations\") )\\\n",
    "                                .sort(F.col(\"% observations\").desc()).show(31))"
   ]
  },
  {
   "cell_type": "markdown",
   "id": "844b7a90-a815-4eb9-9015-e88b951071e5",
   "metadata": {},
   "source": [
    "Relationship between each of the categorical features and the target column"
   ]
  },
  {
   "cell_type": "code",
   "execution_count": 54,
   "id": "13778858-57b7-4ecd-99b8-10c97877c1d3",
   "metadata": {
    "tags": []
   },
   "outputs": [
    {
     "name": "stdout",
     "output_type": "stream",
     "text": [
      "-----------------------------------------\n",
      "|\"JOB\"          |\"'no'\"     |\"'yes'\"    |\n",
      "-----------------------------------------\n",
      "|services       |91.117000  |8.883000   |\n",
      "|blue-collar    |92.725000  |7.275000   |\n",
      "|technician     |88.943000  |11.057000  |\n",
      "|student        |71.322000  |28.678000  |\n",
      "|unknown        |88.194400  |11.805600  |\n",
      "|retired        |77.208500  |22.791500  |\n",
      "|management     |86.244400  |13.755600  |\n",
      "|housemaid      |91.209700  |8.790300   |\n",
      "|unemployed     |84.497300  |15.502700  |\n",
      "|admin.         |87.797300  |12.202700  |\n",
      "|self-employed  |88.157100  |11.842900  |\n",
      "|entrepreneur   |91.728300  |8.271700   |\n",
      "-----------------------------------------\n",
      "\n"
     ]
    },
    {
     "data": {
      "text/plain": [
       "None"
      ]
     },
     "metadata": {},
     "output_type": "display_data"
    },
    {
     "name": "stdout",
     "output_type": "stream",
     "text": [
      "-------------------------------------\n",
      "|\"MARITAL\"  |\"'no'\"     |\"'yes'\"    |\n",
      "-------------------------------------\n",
      "|divorced   |88.054500  |11.945500  |\n",
      "|single     |85.050800  |14.949200  |\n",
      "|married    |89.876500  |10.123500  |\n",
      "-------------------------------------\n",
      "\n"
     ]
    },
    {
     "data": {
      "text/plain": [
       "None"
      ]
     },
     "metadata": {},
     "output_type": "display_data"
    },
    {
     "name": "stdout",
     "output_type": "stream",
     "text": [
      "---------------------------------------\n",
      "|\"EDUCATION\"  |\"'no'\"     |\"'yes'\"    |\n",
      "---------------------------------------\n",
      "|secondary    |89.440600  |10.559400  |\n",
      "|primary      |91.373500  |8.626500   |\n",
      "|unknown      |86.429700  |13.570300  |\n",
      "|tertiary     |84.993600  |15.006400  |\n",
      "---------------------------------------\n",
      "\n"
     ]
    },
    {
     "data": {
      "text/plain": [
       "None"
      ]
     },
     "metadata": {},
     "output_type": "display_data"
    },
    {
     "name": "stdout",
     "output_type": "stream",
     "text": [
      "-------------------------------------\n",
      "|\"DEFAULT\"  |\"'no'\"     |\"'yes'\"    |\n",
      "-------------------------------------\n",
      "|yes        |93.619600  |6.380400   |\n",
      "|no         |88.203900  |11.796100  |\n",
      "-------------------------------------\n",
      "\n"
     ]
    },
    {
     "data": {
      "text/plain": [
       "None"
      ]
     },
     "metadata": {},
     "output_type": "display_data"
    },
    {
     "name": "stdout",
     "output_type": "stream",
     "text": [
      "-------------------------------------\n",
      "|\"HOUSING\"  |\"'no'\"     |\"'yes'\"    |\n",
      "-------------------------------------\n",
      "|yes        |92.300000  |7.700000   |\n",
      "|no         |83.297600  |16.702400  |\n",
      "-------------------------------------\n",
      "\n"
     ]
    },
    {
     "data": {
      "text/plain": [
       "None"
      ]
     },
     "metadata": {},
     "output_type": "display_data"
    },
    {
     "name": "stdout",
     "output_type": "stream",
     "text": [
      "----------------------------------\n",
      "|\"LOAN\"  |\"'no'\"     |\"'yes'\"    |\n",
      "----------------------------------\n",
      "|yes     |93.318600  |6.681400   |\n",
      "|no      |87.344300  |12.655700  |\n",
      "----------------------------------\n",
      "\n"
     ]
    },
    {
     "data": {
      "text/plain": [
       "None"
      ]
     },
     "metadata": {},
     "output_type": "display_data"
    },
    {
     "name": "stdout",
     "output_type": "stream",
     "text": [
      "-------------------------------------\n",
      "|\"CONTACT\"  |\"'no'\"     |\"'yes'\"    |\n",
      "-------------------------------------\n",
      "|telephone  |86.579500  |13.420500  |\n",
      "|unknown    |95.929300  |4.070700   |\n",
      "|cellular   |85.081100  |14.918900  |\n",
      "-------------------------------------\n",
      "\n"
     ]
    },
    {
     "data": {
      "text/plain": [
       "None"
      ]
     },
     "metadata": {},
     "output_type": "display_data"
    },
    {
     "name": "stdout",
     "output_type": "stream",
     "text": [
      "-----------------------------------\n",
      "|\"MONTH\"  |\"'no'\"     |\"'yes'\"    |\n",
      "-----------------------------------\n",
      "|aug      |88.986700  |11.013300  |\n",
      "|oct      |56.233100  |43.766900  |\n",
      "|jan      |89.878800  |10.121200  |\n",
      "|feb      |83.352200  |16.647800  |\n",
      "|may      |93.280500  |6.719500   |\n",
      "|jun      |89.777200  |10.222800  |\n",
      "|dec      |53.271000  |46.729000  |\n",
      "|jul      |90.906500  |9.093500   |\n",
      "|mar      |48.008400  |51.991600  |\n",
      "|apr      |80.320600  |19.679400  |\n",
      "|nov      |89.848900  |10.151100  |\n",
      "|sep      |53.540600  |46.459400  |\n",
      "-----------------------------------\n",
      "\n"
     ]
    },
    {
     "data": {
      "text/plain": [
       "None"
      ]
     },
     "metadata": {},
     "output_type": "display_data"
    },
    {
     "name": "stdout",
     "output_type": "stream",
     "text": [
      "-------------------------------------\n",
      "|\"OUTCOME\"  |\"'no'\"     |\"'yes'\"    |\n",
      "-------------------------------------\n",
      "|other      |83.315200  |16.684800  |\n",
      "|success    |35.274700  |64.725300  |\n",
      "|unknown    |90.838500  |9.161500   |\n",
      "|failure    |87.390300  |12.609700  |\n",
      "-------------------------------------\n",
      "\n"
     ]
    },
    {
     "data": {
      "text/plain": [
       "None"
      ]
     },
     "metadata": {},
     "output_type": "display_data"
    },
    {
     "name": "stdout",
     "output_type": "stream",
     "text": [
      "---------------------------------\n",
      "|\"DAY\"  |\"'no'\"     |\"'yes'\"    |\n",
      "---------------------------------\n",
      "|8      |89.087900  |10.912100  |\n",
      "|2      |85.924200  |14.075800  |\n",
      "|15     |86.024700  |13.975300  |\n",
      "|29     |92.607400  |7.392600   |\n",
      "|11     |87.762000  |12.238000  |\n",
      "|18     |90.121300  |9.878700   |\n",
      "|19     |93.056300  |6.943700   |\n",
      "|17     |90.923200  |9.076800   |\n",
      "|6      |90.631500  |9.368500   |\n",
      "|23     |86.581500  |13.418500  |\n",
      "|12     |84.778500  |15.221500  |\n",
      "|30     |82.694800  |17.305200  |\n",
      "|16     |86.431100  |13.568900  |\n",
      "|7      |91.359400  |8.640600   |\n",
      "|13     |84.795000  |15.205000  |\n",
      "|20     |93.023300  |6.976700   |\n",
      "|24     |86.129800  |13.870200  |\n",
      "|4      |84.083000  |15.917000  |\n",
      "|1      |72.049700  |27.950300  |\n",
      "|27     |86.619100  |13.380900  |\n",
      "|28     |92.185800  |7.814200   |\n",
      "|9      |88.533000  |11.467000  |\n",
      "|26     |88.792300  |11.207700  |\n",
      "|22     |82.983400  |17.016600  |\n",
      "|25     |84.166700  |15.833300  |\n",
      "|3      |83.503200  |16.496800  |\n",
      "|5      |88.743500  |11.256500  |\n",
      "|31     |92.846000  |7.154000   |\n",
      "|14     |88.636400  |11.363600  |\n",
      "|10     |76.908400  |23.091600  |\n",
      "|21     |90.079000  |9.921000   |\n",
      "---------------------------------\n",
      "\n"
     ]
    },
    {
     "data": {
      "text/plain": [
       "None"
      ]
     },
     "metadata": {},
     "output_type": "display_data"
    }
   ],
   "source": [
    "for col in cat_cols:\n",
    "    window = Window.partition_by(col)\n",
    "    display(df_bank_marketing_prep.group_by(col, F.col(target_col))\\\n",
    "                                .count()\\\n",
    "                                .select(col, F.col(target_col), (F.call_function(\"RATIO_TO_REPORT\", F.col(\"COUNT\")).over(window) * 100).as_(\"percentage\"))\\\n",
    "                                .pivot(target_col, ['no', 'yes']).agg(F.sum(\"percentage\")).show(50))\n"
   ]
  },
  {
   "cell_type": "markdown",
   "id": "817e34db-9570-4020-8d9d-5ed2364b035f",
   "metadata": {},
   "source": [
    "### Model training"
   ]
  },
  {
   "cell_type": "code",
   "execution_count": 55,
   "id": "579e01dd-2b0a-4daf-80e0-4828d57e591c",
   "metadata": {
    "tags": []
   },
   "outputs": [],
   "source": [
    "def train_response_model(X, y, cat_cols, num_cols):\n",
    "    \n",
    "    # One Hot Encoder transformer for categorical columns\n",
    "    cat_transformer = Pipeline(steps=[\n",
    "        ('onehot', OneHotEncoder(handle_unknown='ignore'))\n",
    "    ])\n",
    "    # Standard scaler for numerical columns\n",
    "    num_transformer = Pipeline(steps=[\n",
    "        ('scaler', StandardScaler())\n",
    "    ])\n",
    "    \n",
    "    # Combine into a column transformer\n",
    "    preprocessor = ColumnTransformer(\n",
    "      [\n",
    "            ('num', num_transformer, num_cols),\n",
    "            ('cat', cat_transformer, cat_cols),\n",
    "        ],  verbose_feature_names_out=False,\n",
    "    )\n",
    "    \n",
    "    # Create a pipeline with the column transformer and training of a Random Forrest Classifier\n",
    "    pipe = Pipeline(steps=[('preprocessor', preprocessor),\n",
    "                           ('classifier', RandomForestClassifier(n_jobs=-1))])\n",
    "    rfc_model = pipe.fit(X, y)\n",
    "    return rfc_model"
   ]
  },
  {
   "cell_type": "code",
   "execution_count": 56,
   "id": "2abf9af9-a64e-46dd-9955-6156f131bca4",
   "metadata": {
    "tags": []
   },
   "outputs": [],
   "source": [
    "pd_train = df_bank_marketing.sample(frac=0.10).to_pandas()\n",
    "\n",
    "X = pd_train[[*cat_cols, *num_cols]]\n",
    "y = pd_train[\"Y\"]\n",
    "model = train_response_model(X, y, cat_cols, num_cols)"
   ]
  },
  {
   "cell_type": "code",
   "execution_count": 57,
   "id": "1a639608-98bf-42e1-bfc9-8337bab58266",
   "metadata": {
    "tags": []
   },
   "outputs": [
    {
     "data": {
      "text/html": [
       "<style>#sk-container-id-2 {color: black;background-color: white;}#sk-container-id-2 pre{padding: 0;}#sk-container-id-2 div.sk-toggleable {background-color: white;}#sk-container-id-2 label.sk-toggleable__label {cursor: pointer;display: block;width: 100%;margin-bottom: 0;padding: 0.3em;box-sizing: border-box;text-align: center;}#sk-container-id-2 label.sk-toggleable__label-arrow:before {content: \"▸\";float: left;margin-right: 0.25em;color: #696969;}#sk-container-id-2 label.sk-toggleable__label-arrow:hover:before {color: black;}#sk-container-id-2 div.sk-estimator:hover label.sk-toggleable__label-arrow:before {color: black;}#sk-container-id-2 div.sk-toggleable__content {max-height: 0;max-width: 0;overflow: hidden;text-align: left;background-color: #f0f8ff;}#sk-container-id-2 div.sk-toggleable__content pre {margin: 0.2em;color: black;border-radius: 0.25em;background-color: #f0f8ff;}#sk-container-id-2 input.sk-toggleable__control:checked~div.sk-toggleable__content {max-height: 200px;max-width: 100%;overflow: auto;}#sk-container-id-2 input.sk-toggleable__control:checked~label.sk-toggleable__label-arrow:before {content: \"▾\";}#sk-container-id-2 div.sk-estimator input.sk-toggleable__control:checked~label.sk-toggleable__label {background-color: #d4ebff;}#sk-container-id-2 div.sk-label input.sk-toggleable__control:checked~label.sk-toggleable__label {background-color: #d4ebff;}#sk-container-id-2 input.sk-hidden--visually {border: 0;clip: rect(1px 1px 1px 1px);clip: rect(1px, 1px, 1px, 1px);height: 1px;margin: -1px;overflow: hidden;padding: 0;position: absolute;width: 1px;}#sk-container-id-2 div.sk-estimator {font-family: monospace;background-color: #f0f8ff;border: 1px dotted black;border-radius: 0.25em;box-sizing: border-box;margin-bottom: 0.5em;}#sk-container-id-2 div.sk-estimator:hover {background-color: #d4ebff;}#sk-container-id-2 div.sk-parallel-item::after {content: \"\";width: 100%;border-bottom: 1px solid gray;flex-grow: 1;}#sk-container-id-2 div.sk-label:hover label.sk-toggleable__label {background-color: #d4ebff;}#sk-container-id-2 div.sk-serial::before {content: \"\";position: absolute;border-left: 1px solid gray;box-sizing: border-box;top: 0;bottom: 0;left: 50%;z-index: 0;}#sk-container-id-2 div.sk-serial {display: flex;flex-direction: column;align-items: center;background-color: white;padding-right: 0.2em;padding-left: 0.2em;position: relative;}#sk-container-id-2 div.sk-item {position: relative;z-index: 1;}#sk-container-id-2 div.sk-parallel {display: flex;align-items: stretch;justify-content: center;background-color: white;position: relative;}#sk-container-id-2 div.sk-item::before, #sk-container-id-2 div.sk-parallel-item::before {content: \"\";position: absolute;border-left: 1px solid gray;box-sizing: border-box;top: 0;bottom: 0;left: 50%;z-index: -1;}#sk-container-id-2 div.sk-parallel-item {display: flex;flex-direction: column;z-index: 1;position: relative;background-color: white;}#sk-container-id-2 div.sk-parallel-item:first-child::after {align-self: flex-end;width: 50%;}#sk-container-id-2 div.sk-parallel-item:last-child::after {align-self: flex-start;width: 50%;}#sk-container-id-2 div.sk-parallel-item:only-child::after {width: 0;}#sk-container-id-2 div.sk-dashed-wrapped {border: 1px dashed gray;margin: 0 0.4em 0.5em 0.4em;box-sizing: border-box;padding-bottom: 0.4em;background-color: white;}#sk-container-id-2 div.sk-label label {font-family: monospace;font-weight: bold;display: inline-block;line-height: 1.2em;}#sk-container-id-2 div.sk-label-container {text-align: center;}#sk-container-id-2 div.sk-container {/* jupyter's `normalize.less` sets `[hidden] { display: none; }` but bootstrap.min.css set `[hidden] { display: none !important; }` so we also need the `!important` here to be able to override the default hidden behavior on the sphinx rendered scikit-learn.org. See: https://github.com/scikit-learn/scikit-learn/issues/21755 */display: inline-block !important;position: relative;}#sk-container-id-2 div.sk-text-repr-fallback {display: none;}</style><div id=\"sk-container-id-2\" class=\"sk-top-container\"><div class=\"sk-text-repr-fallback\"><pre>Pipeline(steps=[(&#x27;preprocessor&#x27;,\n",
       "                 ColumnTransformer(transformers=[(&#x27;num&#x27;,\n",
       "                                                  Pipeline(steps=[(&#x27;scaler&#x27;,\n",
       "                                                                   StandardScaler())]),\n",
       "                                                  [&#x27;AGE&#x27;, &#x27;BALANCE&#x27;, &#x27;DURATION&#x27;,\n",
       "                                                   &#x27;CAMPAIGN&#x27;, &#x27;PDAYS&#x27;,\n",
       "                                                   &#x27;PREVIOUS&#x27;]),\n",
       "                                                 (&#x27;cat&#x27;,\n",
       "                                                  Pipeline(steps=[(&#x27;onehot&#x27;,\n",
       "                                                                   OneHotEncoder(handle_unknown=&#x27;ignore&#x27;))]),\n",
       "                                                  [&#x27;JOB&#x27;, &#x27;MARITAL&#x27;,\n",
       "                                                   &#x27;EDUCATION&#x27;, &#x27;DEFAULT&#x27;,\n",
       "                                                   &#x27;HOUSING&#x27;, &#x27;LOAN&#x27;, &#x27;CONTACT&#x27;,\n",
       "                                                   &#x27;MONTH&#x27;, &#x27;OUTCOME&#x27;,\n",
       "                                                   &#x27;DAY&#x27;])],\n",
       "                                   verbose_feature_names_out=False)),\n",
       "                (&#x27;classifier&#x27;, RandomForestClassifier(n_jobs=-1))])</pre><b>In a Jupyter environment, please rerun this cell to show the HTML representation or trust the notebook. <br />On GitHub, the HTML representation is unable to render, please try loading this page with nbviewer.org.</b></div><div class=\"sk-container\" hidden><div class=\"sk-item sk-dashed-wrapped\"><div class=\"sk-label-container\"><div class=\"sk-label sk-toggleable\"><input class=\"sk-toggleable__control sk-hidden--visually\" id=\"sk-estimator-id-8\" type=\"checkbox\" ><label for=\"sk-estimator-id-8\" class=\"sk-toggleable__label sk-toggleable__label-arrow\">Pipeline</label><div class=\"sk-toggleable__content\"><pre>Pipeline(steps=[(&#x27;preprocessor&#x27;,\n",
       "                 ColumnTransformer(transformers=[(&#x27;num&#x27;,\n",
       "                                                  Pipeline(steps=[(&#x27;scaler&#x27;,\n",
       "                                                                   StandardScaler())]),\n",
       "                                                  [&#x27;AGE&#x27;, &#x27;BALANCE&#x27;, &#x27;DURATION&#x27;,\n",
       "                                                   &#x27;CAMPAIGN&#x27;, &#x27;PDAYS&#x27;,\n",
       "                                                   &#x27;PREVIOUS&#x27;]),\n",
       "                                                 (&#x27;cat&#x27;,\n",
       "                                                  Pipeline(steps=[(&#x27;onehot&#x27;,\n",
       "                                                                   OneHotEncoder(handle_unknown=&#x27;ignore&#x27;))]),\n",
       "                                                  [&#x27;JOB&#x27;, &#x27;MARITAL&#x27;,\n",
       "                                                   &#x27;EDUCATION&#x27;, &#x27;DEFAULT&#x27;,\n",
       "                                                   &#x27;HOUSING&#x27;, &#x27;LOAN&#x27;, &#x27;CONTACT&#x27;,\n",
       "                                                   &#x27;MONTH&#x27;, &#x27;OUTCOME&#x27;,\n",
       "                                                   &#x27;DAY&#x27;])],\n",
       "                                   verbose_feature_names_out=False)),\n",
       "                (&#x27;classifier&#x27;, RandomForestClassifier(n_jobs=-1))])</pre></div></div></div><div class=\"sk-serial\"><div class=\"sk-item sk-dashed-wrapped\"><div class=\"sk-label-container\"><div class=\"sk-label sk-toggleable\"><input class=\"sk-toggleable__control sk-hidden--visually\" id=\"sk-estimator-id-9\" type=\"checkbox\" ><label for=\"sk-estimator-id-9\" class=\"sk-toggleable__label sk-toggleable__label-arrow\">preprocessor: ColumnTransformer</label><div class=\"sk-toggleable__content\"><pre>ColumnTransformer(transformers=[(&#x27;num&#x27;,\n",
       "                                 Pipeline(steps=[(&#x27;scaler&#x27;, StandardScaler())]),\n",
       "                                 [&#x27;AGE&#x27;, &#x27;BALANCE&#x27;, &#x27;DURATION&#x27;, &#x27;CAMPAIGN&#x27;,\n",
       "                                  &#x27;PDAYS&#x27;, &#x27;PREVIOUS&#x27;]),\n",
       "                                (&#x27;cat&#x27;,\n",
       "                                 Pipeline(steps=[(&#x27;onehot&#x27;,\n",
       "                                                  OneHotEncoder(handle_unknown=&#x27;ignore&#x27;))]),\n",
       "                                 [&#x27;JOB&#x27;, &#x27;MARITAL&#x27;, &#x27;EDUCATION&#x27;, &#x27;DEFAULT&#x27;,\n",
       "                                  &#x27;HOUSING&#x27;, &#x27;LOAN&#x27;, &#x27;CONTACT&#x27;, &#x27;MONTH&#x27;,\n",
       "                                  &#x27;OUTCOME&#x27;, &#x27;DAY&#x27;])],\n",
       "                  verbose_feature_names_out=False)</pre></div></div></div><div class=\"sk-parallel\"><div class=\"sk-parallel-item\"><div class=\"sk-item\"><div class=\"sk-label-container\"><div class=\"sk-label sk-toggleable\"><input class=\"sk-toggleable__control sk-hidden--visually\" id=\"sk-estimator-id-10\" type=\"checkbox\" ><label for=\"sk-estimator-id-10\" class=\"sk-toggleable__label sk-toggleable__label-arrow\">num</label><div class=\"sk-toggleable__content\"><pre>[&#x27;AGE&#x27;, &#x27;BALANCE&#x27;, &#x27;DURATION&#x27;, &#x27;CAMPAIGN&#x27;, &#x27;PDAYS&#x27;, &#x27;PREVIOUS&#x27;]</pre></div></div></div><div class=\"sk-serial\"><div class=\"sk-item\"><div class=\"sk-serial\"><div class=\"sk-item\"><div class=\"sk-estimator sk-toggleable\"><input class=\"sk-toggleable__control sk-hidden--visually\" id=\"sk-estimator-id-11\" type=\"checkbox\" ><label for=\"sk-estimator-id-11\" class=\"sk-toggleable__label sk-toggleable__label-arrow\">StandardScaler</label><div class=\"sk-toggleable__content\"><pre>StandardScaler()</pre></div></div></div></div></div></div></div></div><div class=\"sk-parallel-item\"><div class=\"sk-item\"><div class=\"sk-label-container\"><div class=\"sk-label sk-toggleable\"><input class=\"sk-toggleable__control sk-hidden--visually\" id=\"sk-estimator-id-12\" type=\"checkbox\" ><label for=\"sk-estimator-id-12\" class=\"sk-toggleable__label sk-toggleable__label-arrow\">cat</label><div class=\"sk-toggleable__content\"><pre>[&#x27;JOB&#x27;, &#x27;MARITAL&#x27;, &#x27;EDUCATION&#x27;, &#x27;DEFAULT&#x27;, &#x27;HOUSING&#x27;, &#x27;LOAN&#x27;, &#x27;CONTACT&#x27;, &#x27;MONTH&#x27;, &#x27;OUTCOME&#x27;, &#x27;DAY&#x27;]</pre></div></div></div><div class=\"sk-serial\"><div class=\"sk-item\"><div class=\"sk-serial\"><div class=\"sk-item\"><div class=\"sk-estimator sk-toggleable\"><input class=\"sk-toggleable__control sk-hidden--visually\" id=\"sk-estimator-id-13\" type=\"checkbox\" ><label for=\"sk-estimator-id-13\" class=\"sk-toggleable__label sk-toggleable__label-arrow\">OneHotEncoder</label><div class=\"sk-toggleable__content\"><pre>OneHotEncoder(handle_unknown=&#x27;ignore&#x27;)</pre></div></div></div></div></div></div></div></div></div></div><div class=\"sk-item\"><div class=\"sk-estimator sk-toggleable\"><input class=\"sk-toggleable__control sk-hidden--visually\" id=\"sk-estimator-id-14\" type=\"checkbox\" ><label for=\"sk-estimator-id-14\" class=\"sk-toggleable__label sk-toggleable__label-arrow\">RandomForestClassifier</label><div class=\"sk-toggleable__content\"><pre>RandomForestClassifier(n_jobs=-1)</pre></div></div></div></div></div></div></div>"
      ],
      "text/plain": [
       "Pipeline(steps=[('preprocessor',\n",
       "                 ColumnTransformer(transformers=[('num',\n",
       "                                                  Pipeline(steps=[('scaler',\n",
       "                                                                   StandardScaler())]),\n",
       "                                                  ['AGE', 'BALANCE', 'DURATION',\n",
       "                                                   'CAMPAIGN', 'PDAYS',\n",
       "                                                   'PREVIOUS']),\n",
       "                                                 ('cat',\n",
       "                                                  Pipeline(steps=[('onehot',\n",
       "                                                                   OneHotEncoder(handle_unknown='ignore'))]),\n",
       "                                                  ['JOB', 'MARITAL',\n",
       "                                                   'EDUCATION', 'DEFAULT',\n",
       "                                                   'HOUSING', 'LOAN', 'CONTACT',\n",
       "                                                   'MONTH', 'OUTCOME',\n",
       "                                                   'DAY'])],\n",
       "                                   verbose_feature_names_out=False)),\n",
       "                ('classifier', RandomForestClassifier(n_jobs=-1))])"
      ]
     },
     "execution_count": 57,
     "metadata": {},
     "output_type": "execute_result"
    }
   ],
   "source": [
    "model"
   ]
  },
  {
   "cell_type": "markdown",
   "id": "38fb3033-aadc-4856-a5a7-513d7544b0ff",
   "metadata": {},
   "source": [
    "Test the model"
   ]
  },
  {
   "cell_type": "code",
   "execution_count": 58,
   "id": "8f9aca72-729c-465b-976b-b3833badbb03",
   "metadata": {
    "tags": []
   },
   "outputs": [],
   "source": [
    "def save_file_to_stage(snf_session, obj, file_name, stage_path):\n",
    "    import io\n",
    "    import joblib\n",
    "    \n",
    "    file_path = stage_path + file_name\n",
    "    \n",
    "    input_stream = io.BytesIO()\n",
    "    joblib.dump(obj, input_stream)\n",
    "    snf_session._conn._cursor.upload_stream(input_stream, file_path)\n",
    "    \n",
    "    return file_path\n",
    "\n",
    "def train_bank(snf_session: Session, stage: str) -> dict:\n",
    "    from datetime import datetime\n",
    "    \n",
    "    df_train, df_test = snf_session.table(\"bank_marketing_v2\").random_split([0.8, 0.2])\n",
    "    \n",
    "    # Get the categorical, numerical and target column\n",
    "    cat_cols = [c.name for c in df_train.schema.fields if (type(c.datatype) == T.StringType) & (c.name != 'Y')]\n",
    "    numeric_types = [T.DecimalType, T.LongType, T.DoubleType, T.FloatType, T.IntegerType]\n",
    "    num_cols = [c.name for c in df_train.schema.fields if type(c.datatype) in numeric_types]\n",
    "    target_col = \"Y\"\n",
    "    X_cols = [*cat_cols, *num_cols]\n",
    "    \n",
    "    pd_train = df_train.to_pandas()\n",
    "    X = pd_train[X_cols]\n",
    "    y = pd_train[target_col]\n",
    "    \n",
    "    # fit the pipeline\n",
    "    model = train_response_model(X, y, cat_cols, num_cols)\n",
    "    \n",
    "    # Test the model\n",
    "    pd_test = df_test.to_pandas()\n",
    "    \n",
    "    X_test = pd_test[X_cols]\n",
    "    y_test = pd_test[target_col]\n",
    "\n",
    "    y_pred = model.predict(X_test)\n",
    "    \n",
    "    # Create a dict with some test scores based on test data to return\n",
    "    ret_dict = {\"f1_score\" : f1_score(y_test, y_pred, average='macro')\n",
    "                  , \"precision_score\": precision_score(y_test, y_pred, average='macro')\n",
    "                  , \"recall_score\": recall_score(y_test, y_pred, average='macro')\n",
    "                  , \"accuracy_score\" : accuracy_score(y_test, y_pred)}\n",
    "\n",
    "    now = datetime.now()\n",
    "    # Save the model to stage\n",
    "    save_path = now.strftime(\"%Y-%m-%d-%H%M%S\")\n",
    "    model_path = save_file_to_stage(snf_session, model, 'rfc_bank_model.joblib', f'@{stage}/{save_path}/')\n",
    "    ret_dict['model_path'] = model_path\n",
    "    return ret_dict"
   ]
  },
  {
   "cell_type": "markdown",
   "id": "1f69db4c-289e-4cec-b0b9-aeaa33e49ec3",
   "metadata": {},
   "source": [
    "Create a stage for storing the code for the SP, UDF and model file.\n",
    "\n",
    "If you do not want to remove the old models, skip this step"
   ]
  },
  {
   "cell_type": "code",
   "execution_count": 59,
   "id": "4de7081d-8294-4350-8548-9f69b9eaedc2",
   "metadata": {
    "tags": []
   },
   "outputs": [
    {
     "data": {
      "text/plain": [
       "[Row(status='Stage area BANK_STAGE successfully created.')]"
      ]
     },
     "execution_count": 59,
     "metadata": {},
     "output_type": "execute_result"
    }
   ],
   "source": [
    "session.sql(f\"CREATE OR REPLACE STAGE {sp_udf_stage}\").collect()"
   ]
  },
  {
   "cell_type": "markdown",
   "id": "006f5de1-350e-4083-8d81-1b56fc414f2e",
   "metadata": {},
   "source": [
    "Create the Store Procedure in Snowflake.\n",
    "The **sproc** function returns a callable object that can be used to call the stored procedure."
   ]
  },
  {
   "cell_type": "code",
   "execution_count": 60,
   "id": "54a88612-2c7a-41df-9c5a-475c5ef8f3b8",
   "metadata": {
    "tags": []
   },
   "outputs": [
    {
     "name": "stderr",
     "output_type": "stream",
     "text": [
      "The version of package snowflake-snowpark-python in the local environment is 1.2.0, which does not fit the criteria for the requirement snowflake-snowpark-python. Your UDF might not work when the package version is different between the server and your local environment\n"
     ]
    }
   ],
   "source": [
    "session.clear_imports()\n",
    "session.clear_packages()\n",
    "session.add_packages('snowflake-snowpark-python','pandas', 'scikit-learn==1.1.3', 'joblib')\n",
    "train_bank_sp = F.sproc(func=train_bank,name=\"train_bank\", is_permanent = True, replace= True, stage_location = f'{sp_udf_stage}/bank/sp/', session=session)"
   ]
  },
  {
   "cell_type": "markdown",
   "id": "d1e8216c-abc5-405f-934c-9d69c67a506b",
   "metadata": {},
   "source": [
    "Run the training Stored Procedure in Snowflake"
   ]
  },
  {
   "cell_type": "code",
   "execution_count": 61,
   "id": "da6e39bd-433e-4783-b0a1-9c80a80f0411",
   "metadata": {
    "tags": []
   },
   "outputs": [
    {
     "data": {
      "text/plain": [
       "{'accuracy_score': 0.9031511679153812,\n",
       " 'f1_score': 0.7161033663929085,\n",
       " 'model_path': '@BANK_STAGE/bank/model/2023-03-20-025600/rfc_bank_model.joblib',\n",
       " 'precision_score': 0.7895891097330634,\n",
       " 'recall_score': 0.6789827094992672}"
      ]
     },
     "execution_count": 61,
     "metadata": {},
     "output_type": "execute_result"
    }
   ],
   "source": [
    "sp_dict = json.loads(train_bank_sp(session, f'{sp_udf_stage}/bank/model'))\n",
    "sp_dict"
   ]
  },
  {
   "cell_type": "markdown",
   "id": "4db33a2c-020b-4f03-be67-06f3ef1e9c28",
   "metadata": {},
   "source": [
    "Check that the model is saved to the Snowflake stage"
   ]
  },
  {
   "cell_type": "code",
   "execution_count": 62,
   "id": "0e63d3e8-8ad6-4e3f-b6af-727b7acde73f",
   "metadata": {
    "tags": []
   },
   "outputs": [
    {
     "name": "stdout",
     "output_type": "stream",
     "text": [
      "-----------------------------------------------------------------------------------------------------------------------------------------------\n",
      "|\"name\"                                                         |\"size\"    |\"md5\"                             |\"last_modified\"                |\n",
      "-----------------------------------------------------------------------------------------------------------------------------------------------\n",
      "|bank_stage/bank/model/2023-03-20-025600/rfc_bank_model.joblib  |52034992  |b4d980d50ac559c8c16a2a29990d33a4  |Mon, 20 Mar 2023 09:56:02 GMT  |\n",
      "-----------------------------------------------------------------------------------------------------------------------------------------------\n",
      "\n"
     ]
    }
   ],
   "source": [
    "session.sql(f\"ls @{sp_udf_stage}/bank/model\").show(max_width=150)"
   ]
  },
  {
   "cell_type": "markdown",
   "id": "aeb9160b-6b45-4e0d-b0b6-ebfead947a7c",
   "metadata": {},
   "source": [
    "Deploy model as a UDF"
   ]
  },
  {
   "cell_type": "code",
   "execution_count": 63,
   "id": "ba3781a1-d713-48c0-a9fa-52a99e5052b1",
   "metadata": {
    "tags": []
   },
   "outputs": [],
   "source": [
    "def deploy_model(snf_session, udf_name, udf_stage, model_name, import_model_path, features):\n",
    "    \n",
    "    # Function to load the model file, using cachetools makes sure file is only loaded once\n",
    "    @cachetools.cached(cache={})\n",
    "    def read_file(filename):\n",
    "        import joblib\n",
    "        import sys\n",
    "        import os\n",
    "\n",
    "        import_dir = sys._xoptions.get(\"snowflake_import_directory\")\n",
    "        if import_dir:\n",
    "            with open(os.path.join(import_dir, filename), 'rb') as file:\n",
    "                m = joblib.load(file)\n",
    "                return m\n",
    "    \n",
    "    # Use a vectorized udf, gets maximum 100 rows at the time\n",
    "    @F.udf(name = udf_name, max_batch_size=100, is_permanent = True, stage_location = udf_stage, imports = [import_model_path]\n",
    "           , packages = ['pandas', 'scikit-learn==1.1.3', 'cachetools'], replace = True, session = snf_session)\n",
    "    def survived(pd_input: T.PandasDataFrame[str, str, str, str, str, str, str, str, str, str, int, int, int, int, int, int]) -> T.PandasSeries[str]:\n",
    "        # Make sure we have the columns in the expected order in the Pandas Dataframe\n",
    "        model = read_file(model_name)\n",
    "        pd_input.columns = features\n",
    "        prediction = model.predict(pd_input)\n",
    "        return prediction\n"
   ]
  },
  {
   "cell_type": "markdown",
   "id": "caa42e43-08bc-4df5-9d55-a2e83327b919",
   "metadata": {
    "tags": []
   },
   "source": [
    "Call the deployment function"
   ]
  },
  {
   "cell_type": "code",
   "execution_count": 64,
   "id": "da040774-e874-4bc9-8a16-30694f3c4ca0",
   "metadata": {
    "tags": []
   },
   "outputs": [],
   "source": [
    "features = [*cat_cols, *num_cols]\n",
    "deploy_model(session, \"predict_response\", f\"@{sp_udf_stage}/bank/udf/\", \"rfc_bank_model.joblib\" ,sp_dict['model_path'], features)"
   ]
  },
  {
   "cell_type": "markdown",
   "id": "37dd57e4-6933-42d3-9af9-bdde88842c20",
   "metadata": {},
   "source": [
    "Test the UDF with our data"
   ]
  },
  {
   "cell_type": "code",
   "execution_count": 65,
   "id": "dcf8c866-93d1-4202-93eb-aad2ecd4afcc",
   "metadata": {
    "tags": []
   },
   "outputs": [
    {
     "name": "stdout",
     "output_type": "stream",
     "text": [
      "---------------------------------------------------------------------------------------------------------------------------------------------------------------------------------------------------------------\n",
      "|\"JOB\"         |\"MARITAL\"  |\"EDUCATION\"  |\"DEFAULT\"  |\"HOUSING\"  |\"LOAN\"  |\"CONTACT\"  |\"MONTH\"  |\"OUTCOME\"  |\"DAY\"  |\"AGE\"  |\"BALANCE\"  |\"DURATION\"  |\"CAMPAIGN\"  |\"PDAYS\"  |\"PREVIOUS\"  |\"Y\"  |\"PREDICTION\"  |\n",
      "---------------------------------------------------------------------------------------------------------------------------------------------------------------------------------------------------------------\n",
      "|technician    |single     |secondary    |no         |no         |no      |cellular   |nov      |unknown    |4      |34     |1866       |95          |1           |-1       |0           |no   |no            |\n",
      "|services      |married    |secondary    |no         |yes        |yes     |telephone  |nov      |unknown    |4      |41     |523        |5           |1           |-1       |0           |no   |no            |\n",
      "|management    |married    |tertiary     |no         |no         |no      |telephone  |nov      |unknown    |4      |60     |5041       |399         |1           |-1       |0           |yes  |yes           |\n",
      "|management    |single     |tertiary     |no         |no         |yes     |unknown    |nov      |unknown    |4      |28     |1335       |15          |1           |-1       |0           |no   |no            |\n",
      "|technician    |single     |tertiary     |no         |no         |yes     |telephone  |nov      |other      |4      |26     |172        |21          |1           |140      |4           |no   |no            |\n",
      "|entrepreneur  |married    |tertiary     |no         |yes        |no      |telephone  |nov      |unknown    |4      |34     |0          |217         |1           |-1       |0           |no   |no            |\n",
      "|technician    |married    |secondary    |no         |yes        |no      |telephone  |nov      |unknown    |4      |56     |6619       |465         |1           |-1       |0           |yes  |yes           |\n",
      "|management    |married    |tertiary     |no         |yes        |no      |telephone  |nov      |unknown    |5      |34     |8          |6           |1           |-1       |0           |no   |no            |\n",
      "|admin.        |divorced   |secondary    |no         |no         |yes     |telephone  |nov      |unknown    |5      |50     |237        |169         |1           |-1       |0           |yes  |yes           |\n",
      "|admin.        |single     |secondary    |no         |no         |no      |telephone  |nov      |failure    |5      |51     |3132       |449         |1           |176      |1           |no   |no            |\n",
      "---------------------------------------------------------------------------------------------------------------------------------------------------------------------------------------------------------------\n",
      "\n"
     ]
    }
   ],
   "source": [
    "# Generate a list of columns to use with the UDF\n",
    "input_cols = [F.col(col) for col in features]\n",
    "\n",
    "df_response_scores = df_bank_marketing.select(*input_cols, F.col(target_col), F.call_function(\"predict_response\", *input_cols).alias('PREDICTION'))\n",
    "df_response_scores.show()"
   ]
  },
  {
   "cell_type": "markdown",
   "id": "5fa0948d-9e9c-4bcf-97aa-411935f3a3f4",
   "metadata": {},
   "source": [
    "Using the crosstab method allows us to do a quick confusion matrix"
   ]
  },
  {
   "cell_type": "code",
   "execution_count": 66,
   "id": "58fda319-87ca-44b8-8688-f7dda5be268f",
   "metadata": {},
   "outputs": [
    {
     "name": "stdout",
     "output_type": "stream",
     "text": [
      "--------------------------\n",
      "|\"Y\"  |\"'yes'\"  |\"'no'\"  |\n",
      "--------------------------\n",
      "|yes  |4624     |665     |\n",
      "|no   |216      |39706   |\n",
      "--------------------------\n",
      "\n"
     ]
    }
   ],
   "source": [
    "df_response_scores.crosstab(\"Y\", \"PREDICTION\").show()"
   ]
  },
  {
   "cell_type": "code",
   "execution_count": 67,
   "id": "a820c21d-390b-4a9c-a759-134d500b1ff2",
   "metadata": {},
   "outputs": [],
   "source": [
    "session.close()"
   ]
  },
  {
   "cell_type": "code",
   "execution_count": null,
   "id": "9811fa8d-3ab1-46be-9bad-337125dcbbd2",
   "metadata": {},
   "outputs": [],
   "source": []
  }
 ],
 "metadata": {
  "kernelspec": {
   "display_name": "Python 3 (ipykernel)",
   "language": "python",
   "name": "python3"
  },
  "language_info": {
   "codemirror_mode": {
    "name": "ipython",
    "version": 3
   },
   "file_extension": ".py",
   "mimetype": "text/x-python",
   "name": "python",
   "nbconvert_exporter": "python",
   "pygments_lexer": "ipython3",
   "version": "3.8.16"
  }
 },
 "nbformat": 4,
 "nbformat_minor": 5
}
