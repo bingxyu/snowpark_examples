{
 "cells": [
  {
   "cell_type": "markdown",
   "id": "cd438971-1c4b-4caa-9d1d-55d120cde3ba",
   "metadata": {},
   "source": [
    "# Credit Card Fraud Data Generation\n",
    "\n",
    "Generate data based on https://fraud-detection-handbook.github.io/fraud-detection-handbook/Chapter_3_GettingStarted/SimulatedDataset.html\n",
    "\n",
    "For generating larger datasets consider to use 2XL or above for your WH, or have some patience since associating customers with terminals takes some time due to it based on distance calculations."
   ]
  },
  {
   "cell_type": "code",
   "execution_count": null,
   "id": "36f569a1-18da-4dd7-b5dc-9c70888ee677",
   "metadata": {},
   "outputs": [],
   "source": [
    "import snowflake.snowpark as S\n",
    "from snowflake.snowpark import functions as F\n",
    "from snowflake.snowpark.session import Session\n",
    "from snowflake.snowpark import types as T\n",
    "from snowflake.snowpark import Window\n",
    "from snowflake.snowpark.context import get_active_session\n",
    "\n",
    "\n",
    "# Print the version of Snowpark we are using\n",
    "print(f\"Using Snowpark: {S.__version__}\")"
   ]
  },
  {
   "cell_type": "code",
   "execution_count": null,
   "id": "ede1431a-08a9-4b19-8db6-f8d1ad1aef57",
   "metadata": {},
   "outputs": [],
   "source": [
    "import pandas as pd\n",
    "import numpy as np\n",
    "import json \n",
    "import datetime\n",
    "import time\n",
    "\n",
    "# For plotting\n",
    "%matplotlib inline\n",
    "\n",
    "import matplotlib.pyplot as plt\n",
    "import seaborn as sns\n",
    "\n",
    "# Make sure we do not get line breaks when doing show on wide dataframes\n",
    "from IPython.core.display import HTML\n",
    "display(HTML(\"<style>pre { white-space: pre !important; }</style>\"))"
   ]
  },
  {
   "cell_type": "markdown",
   "id": "0469db1e-194c-41c9-801c-eb08b7d1b6cf",
   "metadata": {},
   "source": [
    "## Connect to Snowflake\n",
    "\n",
    "This example is using a JSON file with the following structure\n",
    "```\n",
    "{\n",
    "    \"account\":\"MY SNOWFLAKE ACCOUNT\",\n",
    "    \"user\": \"MY USER\",\n",
    "    \"password\":\"MY PASSWORD\",\n",
    "    \"role\":\"MY ROLE\",\n",
    "    \"warehouse\":\"MY WH\",\n",
    "    \"database\":\"MY DB\",\n",
    "    \"schema\":\"MY SCHEMA\"\n",
    "}\n",
    "\n",
    "```"
   ]
  },
  {
   "cell_type": "code",
   "execution_count": null,
   "id": "e0d9d53d-b9de-452a-b5e3-6cfb41567237",
   "metadata": {},
   "outputs": [],
   "source": [
    "with open('../creds.json') as f:\n",
    "    connection_parameters = json.load(f)\n",
    "    \n",
    "session = Session.builder.configs(connection_parameters).create()\n",
    "print(\"Current role: \" + session.get_current_role() + \", Current schema: \" + session.get_fully_qualified_current_schema() + \", Current WH: \" + session.get_current_warehouse())"
   ]
  },
  {
   "cell_type": "markdown",
   "id": "1a0e02f0-3b0e-45e6-9797-f9f3d10b8742",
   "metadata": {},
   "source": [
    "# Create database and schema to store the generated data"
   ]
  },
  {
   "cell_type": "code",
   "execution_count": null,
   "id": "de99f4df-2b48-4da7-9007-d177ebc7664e",
   "metadata": {},
   "outputs": [],
   "source": [
    "session.sql(\"CREATE DATABASE IF NOT EXIST CREDIT_CARD_FRAUD\").collect()\n",
    "session.use_database(\"CREDIT_CARD_FRAUD\")\n",
    "session.sql(\"CREATE SCHEMA IF NOT EXIST DATA\").collect()\n",
    "session.use_schema(\"DATA\")"
   ]
  },
  {
   "cell_type": "markdown",
   "id": "8bdc2034-0859-438d-8ae9-5dccde9a63f6",
   "metadata": {},
   "source": [
    "# Generator functions"
   ]
  },
  {
   "cell_type": "code",
   "execution_count": null,
   "id": "139b49a9-80ca-4c8d-ae26-a6933bd9076e",
   "metadata": {},
   "outputs": [],
   "source": [
    "\"\"\"\n",
    "    Function to generate customers.\n",
    "    \n",
    "    The customer profile dataframe will have the following features:\n",
    "     - CUSTOMER_ID: The customer unique ID\n",
    "     - X_CUSTOMER_ID & Y_CUSTOMER_ID: Coordinates of the location of the customers in a square x square grid\n",
    "     - MEAN_AMOUNT, STD_AMOUNT: The mean and standard deviation of the transaction amounts for the customer, assuming that the transaction amounts follow a normal distribution\n",
    "     - MEAN_NB_TX_PER_DAY: The average number of transactions per day for the customer, assuming that the number of transactions per day follows a Poisson distribution.\n",
    "     \n",
    "\"\"\"\n",
    "def snf_generate_customer_profiles_table(snf_session, n_customers, square=100, random_state=0):\n",
    "    # Generate n_customers, \n",
    "    df_customer_profiles_table = snf_session.generator(F.seq8(1).as_(\"customer_id\")\n",
    "                  , F.uniform(0, F.lit(square), F.random()).as_(\"x_customer_id\") \n",
    "                  , F.uniform(0, F.lit(square), F.random()).as_(\"y_customer_id\")\n",
    "                  , F.uniform(5, F.lit(100), F.random()).as_(\"mean_amount\")\n",
    "                  , F.uniform(0, 4, F.random()).as_(\"mean_nb_tx_per_day\")\n",
    "                  , rowcount=n_customers)\\\n",
    "                  .with_column(\"std_amount\",(F.col(\"mean_amount\")/F.lit(2)))\\\n",
    "                  .select(['CUSTOMER_ID','x_customer_id', 'y_customer_id'\n",
    "                           ,'mean_amount', 'std_amount', 'mean_nb_tx_per_day'])\n",
    "\n",
    "    return df_customer_profiles_table\n"
   ]
  },
  {
   "cell_type": "code",
   "execution_count": null,
   "id": "a79a5cb3-2a8d-4811-a987-b601dad4d7d4",
   "metadata": {},
   "outputs": [],
   "source": [
    "\"\"\"\n",
    "    Function to generate terminals.\n",
    "    \n",
    "    The terminal profile dataframe will have the following features:\n",
    "     - TERMINAL_ID: The terminal unique ID\n",
    "     - X_TERMINAL_ID & Y_TERMINAL_ID: Coordinates of the location of the terminal in a square x square grid\n",
    "     \n",
    "\"\"\"\n",
    "def snf_generate_terminal_profiles_table(snf_session, n_terminals, square=100, random_state=0):\n",
    "                                           \n",
    "    df_terminal_profiles_table = snf_session.generator(F.seq8(1).as_(\"TERMINAL_ID\")\n",
    "                                                      , F.uniform(0, F.lit(square), F.random()).as_(\"x_terminal_id\") \n",
    "                                                      , F.uniform(0, F.lit(square), F.random()).as_(\"y_terminal_id\")\n",
    "                                                      , rowcount=n_terminals)\n",
    "    \n",
    "    return df_terminal_profiles_table\n"
   ]
  },
  {
   "cell_type": "code",
   "execution_count": null,
   "id": "db3749f8-0bb6-4f6d-b106-e69c4173ac19",
   "metadata": {},
   "outputs": [],
   "source": [
    "\"\"\"\n",
    "    Function to asscoiate customer with terminals.\n",
    "     \n",
    "    For each customer find the terminals that are within a r radious from the customer.\n",
    "    \n",
    "\"\"\"\n",
    "def add_terminals_to_customer(df_customer_profiles, df_terminal_profiles, r=5):\n",
    "    \n",
    "    snf_square = F.function(\"SQUARE\")\n",
    "    \n",
    "    df_customer_terminals = df_customer_profiles.join(df_terminal_profiles, \n",
    "                                                      F.sqrt(snf_square(F.col(\"X_CUSTOMER_ID\") - F.col(\"X_TERMINAL_ID\")) + snf_square(F.col(\"Y_CUSTOMER_ID\") - F.col(\"Y_TERMINAL_ID\"))) < F.lit(r))\\\n",
    "                                                .select(\"CUSTOMER_ID\", \"TERMINAL_ID\")\n",
    "    \n",
    "    return df_customer_terminals\n"
   ]
  },
  {
   "cell_type": "code",
   "execution_count": null,
   "id": "9b5145e2-e9ef-4827-a447-9f4977d07674",
   "metadata": {},
   "outputs": [],
   "source": [
    "\"\"\"\n",
    "    Function to generate transactions for each customer.\n",
    "    \n",
    "    Generates transactions for each customer based on the MEAN_AMOUNT, STD_AMOUNT and MEAN_NB_TX_PER_DAY values for each customer.\n",
    "    \n",
    "\"\"\"\n",
    "def generate_transactions_table(snf_session, df_customer_profiles, df_customer_terminals, start_date, nb_days):\n",
    "    \n",
    "    # Output columns\n",
    "    row_schema=T.StructType([ T.StructField(\"CUSTOMER_ID\", T.IntegerType())\n",
    "                         , T.StructField(\"TERMINAL_ID\", T.IntegerType())\n",
    "                         , T.StructField(\"TX_AMOUNT\", T.DecimalType(38, 6))\n",
    "                         , T.StructField(\"TX_TIME_SECONDS\", T.IntegerType())\n",
    "                         , T.StructField(\"TX_TIME_DAYS\", T.IntegerType())\n",
    "                        ])\n",
    "    \n",
    "    # Create a UDTF that generates transactions for each customer\n",
    "    class generate_trx_udtf:\n",
    "        def process(self, customer_id: int, mean_nb_tx_per_day: int, mean_amount: int, std_amount: float, available_terminals: list, nb_days:int):\n",
    "            import random\n",
    "            customer_transactions = []\n",
    "\n",
    "            random.seed(customer_id)\n",
    "            np.random.seed(customer_id)\n",
    "            # For each day in the range of nb_days generate a random number \n",
    "            # of transactions based on the customer mean_nb_tx_per_day\n",
    "            for day in range(nb_days):\n",
    "                # Random number of transactions for that day \n",
    "                nb_tx = np.random.poisson(mean_nb_tx_per_day)\n",
    "                if nb_tx>0:\n",
    "                    # For each transcation during a day\n",
    "                    for tx in range(nb_tx):\n",
    "                        # Generate a time for the transaction\n",
    "                        # Around noon, std 20000 seconds. This choice aims at simulating the fact that \n",
    "                        # most transactions occur during the day.\n",
    "                        time_tx = int(np.random.normal(86400/2, 20000))\n",
    "\n",
    "                        if (time_tx>0) and (time_tx<86400):\n",
    "                            # Amount is drawn from a normal distribution\n",
    "                            amount = np.random.normal(mean_amount, std_amount)\n",
    "                            # If amount negative, draw from a uniform distribution\n",
    "                            if amount<0:\n",
    "                                amount = np.random.uniform(0,mean_amount*2)\n",
    "                            amount=np.round(amount,decimals=2)\n",
    "                            # Add a terminal to the transcation, based on the ones closet of the custom\n",
    "                            if len(available_terminals)>0:\n",
    "                                terminal_id = random.choice(available_terminals)\n",
    "                                customer_transactions.append((customer_id, \n",
    "                                                          terminal_id, amount,\n",
    "                                                             time_tx+day*86400, day))\n",
    "            return customer_transactions\n",
    "\n",
    "    generate_trx = snf_session.udtf.register(generate_trx_udtf, \n",
    "                                                     name=\"generate_trx_udtf\",\n",
    "                                                     is_permanent=False,\n",
    "                                                     packages=[\"numpy\"],\n",
    "                                                     output_schema=row_schema, \n",
    "                                                     input_types=[T.LongType(), T.LongType(), T.LongType(), T.DecimalType(38, 6), T.ArrayType(T.StringType()), T.IntegerType()],\n",
    "                                                     replace=True)\n",
    "\n",
    "    # Generate a list of terminals per customer\n",
    "    df_input = df_customer_profiles.join(df_customer_terminals, df_customer_profiles.col(\"CUSTOMER_ID\") == df_customer_terminals.col(\"CUSTOMER_ID\"), lsuffix=\"_CUST\")\\\n",
    "                                        .group_by(F.col(\"CUSTOMER_ID_CUST\"), F.col(\"MEAN_NB_TX_PER_DAY\"), F.col(\"MEAN_AMOUNT\"), F.col(\"STD_AMOUNT\")).agg(F.array_agg(\"TERMINAL_ID\").as_(\"AVAILABLE_TERMINALS\")).cache_result()\n",
    "    # Generate the transactions\n",
    "    df_customer_trx = df_input.join_table_function(generate_trx(F.col(\"CUSTOMER_ID_CUST\"), F.col(\"MEAN_NB_TX_PER_DAY\"), F.col(\"MEAN_AMOUNT\"), F.col(\"STD_AMOUNT\"), F.col(\"AVAILABLE_TERMINALS\"), F.lit(nb_days)))\\\n",
    "            .with_column(\"TX_DATETIME\" ,F.dateadd(\"SECONDS\", F.col(\"TX_TIME_SECONDS\"), F.lit(start_date)))\\\n",
    "            .with_column(\"TRANSACTION_ID\",F.row_number().over(Window.order_by(F.col(\"TX_DATETIME\"))))\\\n",
    "            .select(\"TRANSACTION_ID\", \"TX_DATETIME\" ,\"CUSTOMER_ID\", \"TERMINAL_ID\",\"TX_AMOUNT\",\"TX_TIME_SECONDS\",\"TX_TIME_DAYS\").sort(\"TRANSACTION_ID\").cache_result()\n",
    "    return df_customer_trx\n"
   ]
  },
  {
   "cell_type": "code",
   "execution_count": null,
   "id": "a072aaf9-24f7-4cbd-a63b-3ba8a1d8b793",
   "metadata": {},
   "outputs": [],
   "source": [
    "\"\"\"\n",
    "    Function to generate all datasets.\n",
    "    \n",
    "\"\"\"\n",
    "def generate_dataset(snf_session, n_customers = 10000, n_terminals = 1000000, nb_days=90, start_date=\"2018-04-01\", square=100, r=5):\n",
    "    \n",
    "    start_time=time.time()\n",
    "    df_customer_profiles_table = snf_generate_customer_profiles_table(snf_session, n_customers, square, random_state = 0).cache_result()\n",
    "    print(\"Time to generate customer profiles table: {0:.2}s\".format(time.time()-start_time))\n",
    "    \n",
    "    start_time=time.time()\n",
    "    df_terminal_profiles_table = snf_generate_terminal_profiles_table(snf_session, n_terminals, square, random_state = 1).cache_result()\n",
    "    print(\"Time to generate terminal profiles table: {0:.2}s\".format(time.time()-start_time))\n",
    "    \n",
    "    start_time=time.time()\n",
    "    # Get the cordinate of each terminal\n",
    "    df_customer_terminals = add_terminals_to_customer(df_customer_profiles_table, df_terminal_profiles_table).cache_result()\n",
    "    print(\"Time to associate terminals to customers: {0:.2}s\".format(time.time()-start_time))\n",
    "    \n",
    "    start_time=time.time()\n",
    "    df_transactions = generate_transactions_table(snf_session, df_customer_profiles_table, df_customer_terminals, start_date, nb_days)\n",
    "    print(\"Time to generate transactions: {0:.2}s\".format(time.time()-start_time))\n",
    "    df_transactions = df_transactions.sort(\"TX_DATETIME\")\n",
    "    \n",
    "    # return (customer_profiles_table, terminal_profiles_table, transactions_df)\n",
    "    return (df_customer_profiles_table, df_terminal_profiles_table, df_transactions)\n"
   ]
  },
  {
   "cell_type": "code",
   "execution_count": null,
   "id": "a23029cf-918e-40dc-b32e-33c7e9afd380",
   "metadata": {},
   "outputs": [],
   "source": [
    "\"\"\"\n",
    "    Function to generate fraudelent transactions.\n",
    "    \n",
    "    It generate 3 diffrent fraud scenarios:\n",
    "        Scenario 1 - all transactions above 220\n",
    "        Scenario 2 - set all transactions for the fraudelent terminals between the date the fraud terminal is selected and 28 days after\n",
    "        Scenario 3 - set all transactions for the fraudelent customers between the date the fraud customer is selected and 14 days after\n",
    "\n",
    "\"\"\"\n",
    "def add_frauds(transactions_df):\n",
    "    \n",
    "    # Get 3 random customers by for each day that will be fraudulent\n",
    "    df_rand_cust = transactions_df.select(F.col(\"TX_TIME_DAYS\"), F.col(\"CUSTOMER_ID\"), F.row_number().over(Window.partition_by(F.col(\"tx_time_days\")).order_by(F.random())).as_(\"R_NR\"))\\\n",
    "                                    .filter(F.col(\"R_NR\").in_(1,2, 3)).select(\"TX_TIME_DAYS\",\"CUSTOMER_ID\" ).sort(\"TX_TIME_DAYS\").cache_result()\n",
    "    \n",
    "    # Get the transcations that will be fraudelent for the customer ie one third of all their transaction between \n",
    "    df_fraud_cust_trx = transactions_df.join(df_rand_cust, ((transactions_df[\"customer_id\"] == df_rand_cust[\"CUSTOMER_ID\"]) \n",
    "                          & ((transactions_df[\"TX_TIME_DAYS\"] >= df_rand_cust[\"TX_TIME_DAYS\"]) \n",
    "                                 & (transactions_df[\"TX_TIME_DAYS\"] < (df_rand_cust[\"TX_TIME_DAYS\"] + F.lit(14)))))\n",
    "                          ,lsuffix=\"_T2\", rsuffix=\"_CF\")\\\n",
    "                    .select(F.col(\"TX_DATETIME\")\n",
    "                            , F.col(\"customer_id_t2\").as_(\"CUSTOMER_ID\"),F.row_number().over(Window.partition_by(F.col(\"customer_id_t2\")).order_by(F.random())).as_(\"R_NR\")\n",
    "                           , F.count(\"*\").over(Window.partition_by(F.col(\"CUSTOMER_ID\"))).as_(\"ROWS\"))\\\n",
    "                    .filter(F.col(\"R_NR\") <= F.round(F.col(\"ROWS\") * F.lit(0.33))).cache_result()\n",
    "\n",
    "    # Get 2 random terminals by for each day that will be fraudulent\n",
    "    df_rand_term = transactions_df.select(F.col(\"TX_TIME_DAYS\"), F.col(\"TERMINAL_ID\"), F.row_number().over(Window.partition_by(F.col(\"tx_time_days\")).order_by(F.random())).as_(\"R_NR\"))\\\n",
    "                                    .filter(F.col(\"R_NR\").in_(1,2)).select(\"TX_TIME_DAYS\", \"TERMINAL_ID\" ).sort(\"TX_TIME_DAYS\").cache_result()\n",
    "    \n",
    "    \n",
    "    df_customer_trx_fraud = transactions_df.join(df_rand_term, \n",
    "                         ((transactions_df[\"terminal_id\"] == df_rand_term[\"TERMINAL_ID\"]) \n",
    "                          & ((transactions_df[\"TX_TIME_DAYS\"] >= df_rand_term[\"TX_TIME_DAYS\"]) \n",
    "                                 & (transactions_df[\"TX_TIME_DAYS\"] < (df_rand_term[\"TX_TIME_DAYS\"] + F.lit(28)))))\n",
    "                         , how=\"leftouter\", lsuffix=\"_T1\", rsuffix=\"_TF\")\\\n",
    "                    .join(df_fraud_cust_trx, \n",
    "                         ((transactions_df[\"customer_id\"] == df_fraud_cust_trx[\"CUSTOMER_ID\"]) \n",
    "                          & (transactions_df[\"TX_DATETIME\"] == df_fraud_cust_trx[\"TX_DATETIME\"]))\n",
    "                         , how=\"leftouter\", lsuffix=\"_T2\", rsuffix=\"_CF\")\\\n",
    "                    .select(F.col(\"TX_DATETIME_T2\").as_(\"TX_DATETIME\"), F.col(\"CUSTOMER_ID_T2\").as_(\"CUSTOMER_ID\"), F.col(\"TERMINAL_ID_T1\").as_(\"TERMINAL_ID\")\n",
    "                           ,F.iff(F.col(\"CUSTOMER_ID_CF\").is_not_null(), F.col(\"TX_AMOUNT\")* F.lit(5), F.col(\"TX_AMOUNT\")).as_(\"TX_AMOUNT\") \n",
    "                            , \"TX_TIME_SECONDS\", F.col(\"TX_TIME_DAYS_T1\").as_(\"TX_TIME_DAYS\") ,\n",
    "                            F.when(F.col(\"TX_AMOUNT\") > F.lit(220), F.lit(1)).when(F.col(\"TERMINAL_ID_TF\").is_not_null(), F.lit(2))\\\n",
    "                            .when(F.col(\"CUSTOMER_ID_CF\").is_not_null(), F.lit(3)).otherwise(F.lit(0)).as_(\"TX_FRAUD_SCENARIO\"))\\\n",
    "                    .with_column(\"TX_FRAUD\", F.iff(F.col(\"TX_FRAUD_SCENARIO\") > F.lit(0), F.lit(1), F.lit(0)))\n",
    "    \n",
    "    return df_customer_trx_fraud\n"
   ]
  },
  {
   "cell_type": "code",
   "execution_count": null,
   "id": "fa379789-6545-4dd3-9bc1-44bd84892dc7",
   "metadata": {},
   "outputs": [],
   "source": [
    "# Generate customers, terminals and transactions\n",
    "df_customer_profiles_table, df_terminal_profiles_table, df_transactions = generate_dataset(session, n_customers = 10000, \n",
    "                     n_terminals = 20000, \n",
    "                     nb_days=180,\n",
    "                     start_date=\"2023-01-01\", \n",
    "                     square=100,\n",
    "                     r=5)"
   ]
  },
  {
   "cell_type": "code",
   "execution_count": null,
   "id": "ae36cc70-6e74-49d7-a556-f20e76532724",
   "metadata": {},
   "outputs": [],
   "source": [
    "print(f\"Number of customers: {df_customer_profiles_table.count()}\")\n",
    "print(f\"Number of terminals: {df_terminal_profiles_table.count()}\")\n",
    "print(f\"Number of transactions: {df_transactions.count()}\")"
   ]
  },
  {
   "cell_type": "markdown",
   "id": "5b70f796-a65f-4ae7-852a-3c6d90d1a149",
   "metadata": {},
   "source": [
    "Look at the distribution of the transactions generated "
   ]
  },
  {
   "cell_type": "code",
   "execution_count": null,
   "id": "5fffe9fc-9858-4380-b01b-817024875ff4",
   "metadata": {},
   "outputs": [],
   "source": [
    "distribution_amount_times_fig, ax = plt.subplots(1, 2, figsize=(18,4))\n",
    "\n",
    "amount_val = df_transactions.filter(F.col(\"TX_TIME_DAYS\") > F.lit(10)).select(\"TX_AMOUNT\").sample(n=10000).to_pandas()['TX_AMOUNT'].values #transactions_df[transactions_df.TX_TIME_DAYS<10]['TX_AMOUNT'].sample(n=10000).values\n",
    "time_val = df_transactions.filter(F.col(\"TX_TIME_DAYS\") < F.lit(10)).select(\"TX_TIME_SECONDS\").sample(n=10000).to_pandas()['TX_TIME_SECONDS'].values #transactions_df[transactions_df.TX_TIME_DAYS<10]['TX_TIME_SECONDS'].sample(n=10000).values\n",
    "\n",
    "sns.histplot(amount_val, ax=ax[0], color='r')\n",
    "ax[0].set_title('Distribution of transaction amounts', fontsize=14)\n",
    "ax[0].set_xlim([min(amount_val), max(amount_val)])\n",
    "ax[0].set(xlabel = \"Amount\", ylabel=\"Number of transactions\")\n",
    "\n",
    "# We divide the time variables by 86400 to transform seconds to days in the plot\n",
    "sns.histplot(time_val/86400, ax=ax[1], color='b', bins = 100,)\n",
    "ax[1].set_title('Distribution of transaction times', fontsize=14)\n",
    "ax[1].set_xlim([min(time_val/86400), max(time_val/86400)])\n",
    "ax[1].set_xticks(range(10))\n",
    "ax[1].set(xlabel = \"Time (days)\", ylabel=\"Number of transactions\")"
   ]
  },
  {
   "cell_type": "markdown",
   "id": "2ae12003-5a72-407a-a057-3d863ec7d29e",
   "metadata": {},
   "source": [
    "Save the generated data into tables"
   ]
  },
  {
   "cell_type": "code",
   "execution_count": null,
   "id": "45348a1a-d33c-446f-9dd7-85c1f4efd192",
   "metadata": {},
   "outputs": [],
   "source": [
    "df_transactions.write.save_as_table(\"CUSTOMER_TRANSACTIONS_RAW\", mode=\"overwrite\")\n",
    "df_customer_profiles_table.write.save_as_table(\"CUSTOMER_PROFILES\", mode=\"overwrite\")\n",
    "df_terminal_profiles_table.write.save_as_table(\"TERMINAL_PROFILES\", mode=\"overwrite\")"
   ]
  },
  {
   "cell_type": "markdown",
   "id": "736d6197-2b5f-4e2b-b917-b952cc0a3100",
   "metadata": {},
   "source": [
    "Create a DataFrame using the transaction table"
   ]
  },
  {
   "cell_type": "code",
   "execution_count": null,
   "id": "915251c6-7f26-4b92-8ad6-1a74f3b2a7e3",
   "metadata": {},
   "outputs": [],
   "source": [
    "df_customer_trx_raw = session.table(\"CUSTOMER_TRANSACTIONS_RAW\")"
   ]
  },
  {
   "cell_type": "code",
   "execution_count": null,
   "id": "b79b1d0e-3ace-42d9-9dd0-40b4e6b39aad",
   "metadata": {},
   "outputs": [],
   "source": [
    "df_customer_trx_raw.show()"
   ]
  },
  {
   "cell_type": "markdown",
   "id": "f3598165-435d-49d3-9eb6-fc4fb4fa4ed1",
   "metadata": {},
   "source": [
    "Add the fraud scenarions"
   ]
  },
  {
   "cell_type": "code",
   "execution_count": null,
   "id": "c3a84ebc-d85e-4c5e-9c07-809824825bc5",
   "metadata": {},
   "outputs": [],
   "source": [
    "df_transactions_fraud = add_frauds(df_customer_trx_raw)\n",
    "df_transactions_fraud.show()"
   ]
  },
  {
   "cell_type": "code",
   "execution_count": null,
   "id": "d5a94469-518c-495f-b87a-d8238669babb",
   "metadata": {},
   "outputs": [],
   "source": [
    "df_transactions_fraud.group_by(\"TX_FRAUD_SCENARIO\").count().show()"
   ]
  },
  {
   "cell_type": "code",
   "execution_count": null,
   "id": "eb29a665-f70b-48a8-b258-94816ca7249e",
   "metadata": {},
   "outputs": [],
   "source": [
    "df_transactions_fraud.write.save_as_table(\"CUSTOMER_TRANSACTIONS_FRAUD\", mode=\"overwrite\")"
   ]
  },
  {
   "cell_type": "code",
   "execution_count": null,
   "id": "748d767f-8f76-4ad7-bcfb-d3552ba81f13",
   "metadata": {},
   "outputs": [],
   "source": [
    "session.close()"
   ]
  },
  {
   "cell_type": "code",
   "execution_count": null,
   "id": "748eb371-343b-4b86-8330-b4fcb0bf51c9",
   "metadata": {},
   "outputs": [],
   "source": []
  }
 ],
 "metadata": {
  "kernelspec": {
   "display_name": "Python 3 (ipykernel)",
   "language": "python",
   "name": "python3"
  },
  "language_info": {
   "codemirror_mode": {
    "name": "ipython",
    "version": 3
   },
   "file_extension": ".py",
   "mimetype": "text/x-python",
   "name": "python",
   "nbconvert_exporter": "python",
   "pygments_lexer": "ipython3",
   "version": "3.8.16"
  }
 },
 "nbformat": 4,
 "nbformat_minor": 5
}
