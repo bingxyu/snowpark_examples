{
 "cells": [
  {
   "cell_type": "markdown",
   "id": "bdcf93eb-3741-4ee2-884f-8323755844c3",
   "metadata": {},
   "source": [
    "# Loading of data needed for examples\n",
    "\n",
    "This notebook can be used to load the data into Snowflake that is used for some of the demos.\n",
    "\n",
    "It will create tables in the database and schema used in the connection parameters ie creds.json"
   ]
  },
  {
   "cell_type": "code",
   "execution_count": null,
   "id": "4b3ffc01-3839-4614-8272-3d7a0accf0c6",
   "metadata": {},
   "outputs": [],
   "source": []
  },
  {
   "cell_type": "code",
   "execution_count": 1,
   "id": "71ab98b6-29c1-4a01-ac8a-559d88b48d3f",
   "metadata": {},
   "outputs": [],
   "source": [
    "# Snowpark modules\n",
    "from snowflake.snowpark.session import Session\n",
    "import snowflake.snowpark.types as T"
   ]
  },
  {
   "cell_type": "code",
   "execution_count": 2,
   "id": "25877fea-9fd5-43c7-b4d6-aa6615a237c4",
   "metadata": {},
   "outputs": [],
   "source": [
    "# Additional modules\n",
    "import json"
   ]
  },
  {
   "cell_type": "code",
   "execution_count": 3,
   "id": "7e87ea55-75af-4670-89e3-87aae5c33235",
   "metadata": {},
   "outputs": [
    {
     "data": {
      "text/html": [
       "<style>pre { white-space: pre !important; }</style>"
      ],
      "text/plain": [
       "<IPython.core.display.HTML object>"
      ]
     },
     "metadata": {},
     "output_type": "display_data"
    }
   ],
   "source": [
    "# Get a nicer output from .show()\n",
    "from IPython.core.display import HTML\n",
    "display(HTML(\"<style>pre { white-space: pre !important; }</style>\"))"
   ]
  },
  {
   "cell_type": "markdown",
   "id": "708590b5-c887-4d71-8ba2-1700ea7451bf",
   "metadata": {},
   "source": [
    "Connect to Snowflake"
   ]
  },
  {
   "cell_type": "code",
   "execution_count": 4,
   "id": "2e438e42-1c52-42ff-8989-090d1dd45291",
   "metadata": {},
   "outputs": [],
   "source": [
    "with open('../creds.json') as f:\n",
    "    connection_parameters = json.load(f)\n",
    "    \n",
    "session = Session.builder.configs(connection_parameters).create()"
   ]
  },
  {
   "cell_type": "markdown",
   "id": "009d05f1-49be-4aac-87e4-49a6566e7deb",
   "metadata": {},
   "source": [
    "Path to where the data files is and what stage to upload the files to"
   ]
  },
  {
   "cell_type": "code",
   "execution_count": 5,
   "id": "bcefd7a0-fe72-43fd-86f0-0e235e66f6a7",
   "metadata": {},
   "outputs": [],
   "source": [
    "data_path = \"../data/\"\n",
    "data_stage_name = \"~\" # Using the user stage"
   ]
  },
  {
   "cell_type": "markdown",
   "id": "06bbf9eb-7e3f-4b5a-9f90-bf0efea934ff",
   "metadata": {},
   "source": [
    "### Titanic data"
   ]
  },
  {
   "cell_type": "code",
   "execution_count": 7,
   "id": "e9d9b996-8f90-4680-bb9c-522fdcaec2d0",
   "metadata": {},
   "outputs": [],
   "source": [
    "# Upload the source file to the stage\n",
    "putResult = session.file.put(f\"{data_path}titanic.csv\", f\"@{data_stage_name}\", auto_compress=True, overwrite=True)"
   ]
  },
  {
   "cell_type": "code",
   "execution_count": 8,
   "id": "5f050341-8670-4b6e-8a85-7e4935f6cc5d",
   "metadata": {},
   "outputs": [
    {
     "data": {
      "text/plain": [
       "[Row(file='titanic.csv.gz', status='LOADED', rows_parsed=1309, rows_loaded=1309, error_limit=1, errors_seen=0, first_error=None, first_error_line=None, first_error_character=None, first_error_column_name=None)]"
      ]
     },
     "execution_count": 8,
     "metadata": {},
     "output_type": "execute_result"
    }
   ],
   "source": [
    "titanicSchema = T.StructType(\n",
    "    [\n",
    "        T.StructField(\"PCLASS\", T.IntegerType()),\n",
    "        T.StructField(\"SURVIVED\", T.StringType()),\n",
    "        T.StructField(\"NAME\", T.StringType()),\n",
    "        T.StructField(\"SEX\", T.StringType()),\n",
    "        T.StructField(\"AGE\", T.FloatType()),\n",
    "        T.StructField(\"SIBSP\", T.FloatType()),\n",
    "        T.StructField(\"PARCH\", T.FloatType()),\n",
    "        T.StructField(\"TICKET\", T.StringType()),\n",
    "        T.StructField(\"FARE\", T.FloatType()),\n",
    "        T.StructField(\"CABIN\", T.StringType()),\n",
    "        T.StructField(\"EMBARKED\", T.StringType()),\n",
    "        T.StructField(\"BOAT\", T.StringType()),\n",
    "        T.StructField(\"BODY\", T.IntegerType()),\n",
    "        T.StructField(\"HOME_DEST\", T.StringType()),\n",
    "    ]\n",
    ")\n",
    "\n",
    "# Crete a reader\n",
    "dfReader = session.read.schema(titanicSchema)\n",
    "\n",
    "# Get the data into the data frame\n",
    "dfTitanic_stage = dfReader.options({\"field_delimiter\":\",\", \"FIELD_OPTIONALLY_ENCLOSED_BY\":'\"', \"NULL_IF\":\"?\", \"SKIP_HEADER\":1}).csv(f\"@{data_stage_name}/titanic.csv.gz\")\n",
    "session.sql(\"DROP TABLE IF EXISTS titanic\").collect()\n",
    "dfTitanic_stage.copy_into_table(\"titanic\")"
   ]
  },
  {
   "cell_type": "code",
   "execution_count": 9,
   "id": "606e1038-2d06-41fd-89d1-0ac22d112fba",
   "metadata": {},
   "outputs": [
    {
     "name": "stdout",
     "output_type": "stream",
     "text": [
      "------------------------------------------------------------------------------------------------------------------------------------------------------------------------------------------------------------------\n",
      "|\"PCLASS\"  |\"SURVIVED\"  |\"NAME\"                                           |\"SEX\"   |\"AGE\"   |\"SIBSP\"  |\"PARCH\"  |\"TICKET\"  |\"FARE\"    |\"CABIN\"  |\"EMBARKED\"  |\"BOAT\"  |\"BODY\"  |\"HOME_DEST\"                      |\n",
      "------------------------------------------------------------------------------------------------------------------------------------------------------------------------------------------------------------------\n",
      "|1         |1           |Allen, Miss. Elisabeth Walton                    |female  |29.0    |0.0      |0.0      |24160     |211.3375  |B5       |S           |2       |NULL    |St Louis, MO                     |\n",
      "|1         |1           |Allison, Master. Hudson Trevor                   |male    |0.9167  |1.0      |2.0      |113781    |151.55    |C22 C26  |S           |11      |NULL    |Montreal, PQ / Chesterville, ON  |\n",
      "|1         |0           |Allison, Miss. Helen Loraine                     |female  |2.0     |1.0      |2.0      |113781    |151.55    |C22 C26  |S           |NULL    |NULL    |Montreal, PQ / Chesterville, ON  |\n",
      "|1         |0           |Allison, Mr. Hudson Joshua Creighton             |male    |30.0    |1.0      |2.0      |113781    |151.55    |C22 C26  |S           |NULL    |135     |Montreal, PQ / Chesterville, ON  |\n",
      "|1         |0           |Allison, Mrs. Hudson J C (Bessie Waldo Daniels)  |female  |25.0    |1.0      |2.0      |113781    |151.55    |C22 C26  |S           |NULL    |NULL    |Montreal, PQ / Chesterville, ON  |\n",
      "|1         |1           |Anderson, Mr. Harry                              |male    |48.0    |0.0      |0.0      |19952     |26.55     |E12      |S           |3       |NULL    |New York, NY                     |\n",
      "|1         |1           |Andrews, Miss. Kornelia Theodosia                |female  |63.0    |1.0      |0.0      |13502     |77.9583   |D7       |S           |10      |NULL    |Hudson, NY                       |\n",
      "|1         |0           |Andrews, Mr. Thomas Jr                           |male    |39.0    |0.0      |0.0      |112050    |0.0       |A36      |S           |NULL    |NULL    |Belfast, NI                      |\n",
      "|1         |1           |Appleton, Mrs. Edward Dale (Charlotte Lamson)    |female  |53.0    |2.0      |0.0      |11769     |51.4792   |C101     |S           |D       |NULL    |Bayside, Queens, NY              |\n",
      "|1         |0           |Artagaveytia, Mr. Ramon                          |male    |71.0    |0.0      |0.0      |PC 17609  |49.5042   |NULL     |C           |NULL    |22      |Montevideo, Uruguay              |\n",
      "------------------------------------------------------------------------------------------------------------------------------------------------------------------------------------------------------------------\n",
      "\n"
     ]
    }
   ],
   "source": [
    "session.table(\"titanic\").show()"
   ]
  },
  {
   "cell_type": "markdown",
   "id": "6ff3ed75-27f4-48e2-9ade-37b8d04d5afc",
   "metadata": {},
   "source": [
    "### Campaign spend"
   ]
  },
  {
   "cell_type": "code",
   "execution_count": 10,
   "id": "116f4e56-3d3a-40be-ba78-690f1a315e02",
   "metadata": {},
   "outputs": [
    {
     "data": {
      "text/plain": [
       "[PutResult(source='campaign_spend.csv', target='campaign_spend.csv.gz', source_size=13684943, target_size=2922464, source_compression='NONE', target_compression='GZIP', status='UPLOADED', message='')]"
      ]
     },
     "execution_count": 10,
     "metadata": {},
     "output_type": "execute_result"
    }
   ],
   "source": [
    "# Upload the source file to the stage\n",
    "session.file.put(f\"{data_path}campaign_spend.csv\", f\"@{data_stage_name}\", auto_compress=True, overwrite=True)"
   ]
  },
  {
   "cell_type": "code",
   "execution_count": 11,
   "id": "7a04bc53-5ddc-42da-97c2-7fbad611a92e",
   "metadata": {},
   "outputs": [
    {
     "data": {
      "text/plain": [
       "[Row(file='campaign_spend.csv.gz', status='LOADED', rows_parsed=293120, rows_loaded=293120, error_limit=1, errors_seen=0, first_error=None, first_error_line=None, first_error_character=None, first_error_column_name=None)]"
      ]
     },
     "execution_count": 11,
     "metadata": {},
     "output_type": "execute_result"
    }
   ],
   "source": [
    "campaignSchema = T.StructType(\n",
    "    [\n",
    "        T.StructField(\"CAMPAIGN\", T.StringType()),\n",
    "        T.StructField(\"CHANNEL\", T.StringType()),\n",
    "        T.StructField(\"DATE\", T.DateType()),\n",
    "        T.StructField(\"TOTAL_CLICKS\", T.DecimalType(38,0)),\n",
    "        T.StructField(\"TOTAL_COST\", T.DecimalType(38,0)),\n",
    "        T.StructField(\"ADS_SERVED\", T.DecimalType(38,0)),\n",
    "    ]\n",
    ")\n",
    "\n",
    "# Crete a reader\n",
    "dfReader = session.read.schema(campaignSchema)\n",
    "\n",
    "# Get the data into the data frame\n",
    "dfCampaign_stage = dfReader.options({\"field_delimiter\":\",\", \"SKIP_HEADER\":1}).csv(f\"@{data_stage_name}/campaign_spend.csv.gz\")\n",
    "session.sql(\"DROP TABLE IF EXISTS campaign_spend\").collect()\n",
    "dfCampaign_stage.copy_into_table(\"campaign_spend\")"
   ]
  },
  {
   "cell_type": "code",
   "execution_count": 12,
   "id": "3d4270e8-3c88-499b-b81b-725d581c7d22",
   "metadata": {},
   "outputs": [
    {
     "name": "stdout",
     "output_type": "stream",
     "text": [
      "------------------------------------------------------------------------------------------------------\n",
      "|\"CAMPAIGN\"              |\"CHANNEL\"      |\"DATE\"      |\"TOTAL_CLICKS\"  |\"TOTAL_COST\"  |\"ADS_SERVED\"  |\n",
      "------------------------------------------------------------------------------------------------------\n",
      "|winter_sports           |video          |2012-06-03  |213             |1762          |426           |\n",
      "|sports_across_cultures  |video          |2012-06-02  |87              |678           |157           |\n",
      "|building_community      |search_engine  |2012-06-03  |66              |471           |134           |\n",
      "|world_series            |social_media   |2017-12-28  |72              |591           |149           |\n",
      "|winter_sports           |email          |2018-02-09  |252             |1841          |473           |\n",
      "|spring_break            |video          |2017-11-14  |162             |1155          |304           |\n",
      "|nba_finals              |email          |2017-11-22  |68              |480           |134           |\n",
      "|winter_sports           |social_media   |2018-03-10  |227             |1797          |454           |\n",
      "|spring_break            |search_engine  |2017-08-30  |150             |1226          |302           |\n",
      "|uefa                    |video          |2017-09-30  |81              |701           |168           |\n",
      "------------------------------------------------------------------------------------------------------\n",
      "\n"
     ]
    }
   ],
   "source": [
    "session.table(\"campaign_spend\").show()"
   ]
  },
  {
   "cell_type": "markdown",
   "id": "f8c72912-aac1-4a94-bf16-36ee07490ace",
   "metadata": {},
   "source": [
    "### Bank Marketing files\n",
    "\n"
   ]
  },
  {
   "cell_type": "code",
   "execution_count": 13,
   "id": "95168628-2435-4575-95eb-30effab620cd",
   "metadata": {
    "tags": []
   },
   "outputs": [
    {
     "data": {
      "text/plain": [
       "[PutResult(source='data_apr.snappy.parquet', target='data_apr.snappy.parquet', source_size=40357, target_size=40368, source_compression='PARQUET', target_compression='PARQUET', status='UPLOADED', message=''),\n",
       " PutResult(source='data_aug.snappy.parquet', target='data_aug.snappy.parquet', source_size=62202, target_size=62208, source_compression='PARQUET', target_compression='PARQUET', status='UPLOADED', message=''),\n",
       " PutResult(source='data_dec.snappy.parquet', target='data_dec.snappy.parquet', source_size=8559, target_size=8560, source_compression='PARQUET', target_compression='PARQUET', status='UPLOADED', message=''),\n",
       " PutResult(source='data_feb.snappy.parquet', target='data_feb.snappy.parquet', source_size=36471, target_size=36480, source_compression='PARQUET', target_compression='PARQUET', status='UPLOADED', message=''),\n",
       " PutResult(source='data_jan.snappy.parquet', target='data_jan.snappy.parquet', source_size=22809, target_size=22816, source_compression='PARQUET', target_compression='PARQUET', status='UPLOADED', message=''),\n",
       " PutResult(source='data_jul.snappy.parquet', target='data_jul.snappy.parquet', source_size=67412, target_size=67424, source_compression='PARQUET', target_compression='PARQUET', status='UPLOADED', message=''),\n",
       " PutResult(source='data_jun.snappy.parquet', target='data_jun.snappy.parquet', source_size=56100, target_size=56112, source_compression='PARQUET', target_compression='PARQUET', status='UPLOADED', message=''),\n",
       " PutResult(source='data_mar.snappy.parquet', target='data_mar.snappy.parquet', source_size=12383, target_size=12384, source_compression='PARQUET', target_compression='PARQUET', status='UPLOADED', message=''),\n",
       " PutResult(source='data_may.snappy.parquet', target='data_may.snappy.parquet', source_size=120093, target_size=120096, source_compression='PARQUET', target_compression='PARQUET', status='UPLOADED', message=''),\n",
       " PutResult(source='data_nov.snappy.parquet', target='data_nov.snappy.parquet', source_size=51065, target_size=51072, source_compression='PARQUET', target_compression='PARQUET', status='UPLOADED', message=''),\n",
       " PutResult(source='data_oct.snappy.parquet', target='data_oct.snappy.parquet', source_size=16217, target_size=16224, source_compression='PARQUET', target_compression='PARQUET', status='UPLOADED', message=''),\n",
       " PutResult(source='data_sep.snappy.parquet', target='data_sep.snappy.parquet', source_size=14360, target_size=14368, source_compression='PARQUET', target_compression='PARQUET', status='UPLOADED', message='')]"
      ]
     },
     "execution_count": 13,
     "metadata": {},
     "output_type": "execute_result"
    }
   ],
   "source": [
    "session.sql(\"CREATE OR REPLACE STAGE SOURCE_FILES\").collect()\n",
    "\n",
    "session.file.put(f\"{data_path}/bank/*\", f\"@SOURCE_FILES/BANK_MARKETING\", auto_compress=False, overwrite=True)"
   ]
  },
  {
   "cell_type": "markdown",
   "id": "f22578ff-7b02-4800-967a-135d242ff4b2",
   "metadata": {},
   "source": [
    "### Clean up"
   ]
  },
  {
   "cell_type": "code",
   "execution_count": 14,
   "id": "5edbeee0-7c79-47f0-b332-89c5f1deb4a5",
   "metadata": {},
   "outputs": [
    {
     "name": "stdout",
     "output_type": "stream",
     "text": [
      "---------------------------------------------\n",
      "|\"name\"  |\"size\"  |\"md5\"  |\"last_modified\"  |\n",
      "---------------------------------------------\n",
      "|        |        |       |                 |\n",
      "---------------------------------------------\n",
      "\n"
     ]
    }
   ],
   "source": [
    "session.sql(f\"rm @{data_stage_name}/campaign_spend.csv.gz\").collect()\n",
    "session.sql(f\"rm @{data_stage_name}/titanic.csv.gz\").collect()\n",
    "session.sql(f\"ls @{data_stage_name}\").show()"
   ]
  },
  {
   "cell_type": "code",
   "execution_count": 15,
   "id": "67c2f915-5bb4-4ff4-93c2-c9c27561facf",
   "metadata": {},
   "outputs": [],
   "source": [
    "session.close()"
   ]
  },
  {
   "cell_type": "code",
   "execution_count": null,
   "id": "9025675d-2981-483c-ba8f-74c34bcf32f5",
   "metadata": {},
   "outputs": [],
   "source": []
  }
 ],
 "metadata": {
  "kernelspec": {
   "display_name": "Python 3 (ipykernel)",
   "language": "python",
   "name": "python3"
  },
  "language_info": {
   "codemirror_mode": {
    "name": "ipython",
    "version": 3
   },
   "file_extension": ".py",
   "mimetype": "text/x-python",
   "name": "python",
   "nbconvert_exporter": "python",
   "pygments_lexer": "ipython3",
   "version": "3.8.17"
  }
 },
 "nbformat": 4,
 "nbformat_minor": 5
}
